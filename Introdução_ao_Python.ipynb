{
  "nbformat": 4,
  "nbformat_minor": 0,
  "metadata": {
    "colab": {
      "name": "Introdução ao Python",
      "provenance": [],
      "collapsed_sections": [
        "A-hRyuuPtdCp",
        "QRm6ghyUtljF",
        "qM_GGTpyt1vJ",
        "6QoOgdLfvHJD",
        "GCW79DPQvjJR",
        "lrHOMUvvvny3",
        "gPFHn48LvsHm",
        "nJk0D5W1wPZ9",
        "ISh1jFRfwVcT",
        "-jif8Ty5wDdx",
        "tPCyhIbfwlPL",
        "awe9wmWHw1Es",
        "fIUncsQ2w6g-",
        "G-GHkk88xIS6",
        "4DPBV4nIxWbG",
        "E94MN97uxbO5",
        "sPdv_qtUxZEl"
      ],
      "authorship_tag": "ABX9TyORtARe9Yk+ysuL9UpVYYB9",
      "include_colab_link": true
    },
    "kernelspec": {
      "name": "python3",
      "display_name": "Python 3"
    }
  },
  "cells": [
    {
      "cell_type": "markdown",
      "metadata": {
        "id": "view-in-github",
        "colab_type": "text"
      },
      "source": [
        "<a href=\"https://colab.research.google.com/github/Gabriellgpc/Python_Demostration/blob/master/Introdu%C3%A7%C3%A3o_ao_Python.ipynb\" target=\"_parent\"><img src=\"https://colab.research.google.com/assets/colab-badge.svg\" alt=\"Open In Colab\"/></a>"
      ]
    },
    {
      "cell_type": "markdown",
      "metadata": {
        "id": "wAsrEDMs23fe",
        "colab_type": "text"
      },
      "source": [
        "#Introdução ao Python"
      ]
    },
    {
      "cell_type": "markdown",
      "metadata": {
        "id": "n35DFZVL3DzO",
        "colab_type": "text"
      },
      "source": [
        "<!-- # Sobre o autor deste material -->\n",
        "<center>\n",
        "\n",
        "<img src=\"https://avatars2.githubusercontent.com/u/24894764?s=400&u=7ffd4885cb89d9281a7f5325d7a64f20746bde49&v=4\" alt=\"drawing\" width=\"200\"/>\n",
        "\n",
        "<!-- ![](https://avatars2.githubusercontent.com/u/24894764?s=400&u=7ffd4885cb89d9281a7f5325d7a64f20746bde49&v=4) -->\n",
        "\n",
        "**_Luís Gabriel Pereira Condados_**\n",
        "\n",
        "_Graduando em Engenharia de Computação pela UFRN;_\n",
        "\n",
        "_Bachareal em Ciências e Tecnologia pela UFRN;_\n",
        "\n",
        "_Membro da equipe Poti de Futebol de Robôs do Departamento de Engenhenharia de Computação e Automação([DCA](https://www.dca.ufrn.br/)) da [UFRN](https://ufrn.br/)._\n",
        "\n",
        "[about.me](https://about.me/lgabrielpc/getstarted)\n",
        "\n",
        "[Github](https://github.com/Gabriellgpc)\n",
        "\n",
        "[Curriculo Lattes](http://lattes.cnpq.br/7552086880914030)\n",
        "\n",
        "[gabriellgpc@hotmail.com](mailto:gabriellgpc@hotmail.com)\n",
        "\n",
        "</center>"
      ]
    },
    {
      "cell_type": "markdown",
      "metadata": {
        "id": "mPwzVp02JEJx",
        "colab_type": "text"
      },
      "source": [
        "# Sumário"
      ]
    },
    {
      "cell_type": "markdown",
      "metadata": {
        "id": "LyHhCTHfj6ME",
        "colab_type": "text"
      },
      "source": [
        "\n",
        "* Visão geral da linguagem\n",
        "* [Google Colab (Notebook interface)](https://colab.research.google.com/notebooks/basic_features_overview.ipynb#scrollTo=Id6tDF1HQSHD)\n",
        "  * Criando documentos no Colab com Markdown e Equações com Latex\n",
        "* Python como calculadora\n",
        "* Alguns conceitos Básicos\n",
        "  * Documentação e as funções: help() e dir()\n",
        "  * Tipos básicos de dados\n",
        "    * int, float, str, complex, bool\n",
        "  * Entradas e saídas de dados\n",
        "    * print(), input()\n",
        "    * Entradas e saídas com Notebook interface    \n",
        "  * Estruturas Lógicas\n",
        "  * Estruturas de Repetição e iterators\n",
        "    * For\n",
        "    * while\n",
        "  * Coleções básicas (containers)\n",
        "    * Listas (list)\n",
        "    * Tuplas\n",
        "    * Dicionários (dict)\n",
        "    * mapa (map)\n",
        "  * Declaração e uso de funções\n",
        "  * Básico sobre Programação Orientada a objetos (POO)\n",
        "    * Classe\n",
        "    * Objetos\n",
        "    * Herança\n",
        "    * Polimorfismo\n",
        "* Módulos Python\n",
        "* Tempo (Módulo time)\n",
        "* Trabalhando com arquivos (leitura e escrita)\n",
        "* Gráficos com Matplotlib\n",
        "* Ferramentas matemáticas com Numpy e Scipy\n",
        "  * Números aleatórios\n",
        "  * Operação com números complexos\n",
        "  * Arrays e Matrizes\n",
        "  * Mínimo e máximo de funções\n",
        "  * Raiz de uma função\n",
        "  * Regressão (Ajuste de curvas)\n",
        "  * Método dos mínimos quadrados (MMQ)\n",
        "* Visão geral sobre Manipulação de dados com o módulo Pandas e visualização dos dados"
      ]
    },
    {
      "cell_type": "markdown",
      "metadata": {
        "id": "A-hRyuuPtdCp",
        "colab_type": "text"
      },
      "source": [
        "# A linguagem de programação Python"
      ]
    },
    {
      "cell_type": "markdown",
      "metadata": {
        "id": "nLK8BsUgmPz3",
        "colab_type": "text"
      },
      "source": [
        "Python é uma linguagem de propósito geral de **alto nível**, multiparadigma, suporta o paradigma **orientado a objetos**, **imperativo**, **funcional** e **procedural**. Possui **tipagem dinâmica** e uma de suas principais características é permitir a fácil leitura do código e exigir poucas linhas de código se comparado ao mesmo programa em outras linguagens. Devido às suas características, ela é principalmente utilizada para processamento de textos, dados científicos entre outras coisas."
      ]
    },
    {
      "cell_type": "markdown",
      "metadata": {
        "id": "DxVRFKRnn3Ff",
        "colab_type": "text"
      },
      "source": [
        "**Tipagem dinâmica**: O interpretador python define o tipo de dado da variavel em tempo de execução.\n",
        "\n",
        "\n",
        "Linguagem sem tipagem dinâmica(Exemplo em C/C++)\n",
        "```C\n",
        "int main(){\n",
        "  int i = 5;\n",
        "  char* j = \"casa\"; \n",
        "\n",
        "  return 0;\n",
        "}\n",
        "```\n",
        "\n",
        "Python:\n",
        "```Python\n",
        "  i , j = 5, \"casa\"\n",
        "```"
      ]
    },
    {
      "cell_type": "code",
      "metadata": {
        "id": "rYCTJsETuBVm",
        "colab_type": "code",
        "colab": {}
      },
      "source": [
        "# Demostração da tipagem dinâmica\n",
        "i , j = 5 , 'casa'\n",
        "print(type(i))\n",
        "print(type(j))\n",
        "\n",
        "i = 1.0\n",
        "print(type(i))\n",
        "i = False\n",
        "print(type(i))"
      ],
      "execution_count": 0,
      "outputs": []
    },
    {
      "cell_type": "markdown",
      "metadata": {
        "id": "QRm6ghyUtljF",
        "colab_type": "text"
      },
      "source": [
        "# Google Colaboratory (Colab)"
      ]
    },
    {
      "cell_type": "markdown",
      "metadata": {
        "id": "WStyIwTzwp1e",
        "colab_type": "text"
      },
      "source": [
        "<!-- Isto é uma célula de texto -->\n",
        "[Google Colab Overview](https://colab.research.google.com/notebooks/basic_features_overview.ipynb#scrollTo=aro-UJgUQSH1)\n"
      ]
    },
    {
      "cell_type": "markdown",
      "metadata": {
        "id": "rayBQYyL6OTr",
        "colab_type": "text"
      },
      "source": [
        "Um notebook interface é uma interface de programação/documentação, composta por células, existem dois tipos de células, as de texto e as de código.\n",
        "No caso do **Colab** o código interpretado nas células de _code_ é python."
      ]
    },
    {
      "cell_type": "markdown",
      "metadata": {
        "id": "M1nqKlvI6gBN",
        "colab_type": "text"
      },
      "source": [
        "As células de textos trabalham com [Markdown](https://daringfireball.net/projects/markdown/). Markdown é uma ferramenta simples para converter textos em HTML/XHTML (textos para web).\n",
        "\n",
        "É possivel colocar palavras em **negritos**, *itálico*, Definir seções e subseções, trabalhar com imagens, [links](https://daringfireball.net/projects/markdown/) entre outras funcionalidades típicas de programas de edição de texto para documentação/artigo.\n",
        "\n",
        "\n",
        "1.   List item\n",
        "2.   List item\n",
        "\n",
        "\n",
        "\n",
        "---\n",
        "<center>\n",
        "\n",
        "> Indented block\n",
        "\n",
        "> Indented block\n",
        "\n",
        "\n",
        "\n",
        "</center>\n",
        "\n",
        "---\n",
        "\n",
        "*   List item\n",
        "*   List item"
      ]
    },
    {
      "cell_type": "markdown",
      "metadata": {
        "id": "yNur-Tj99ZIX",
        "colab_type": "text"
      },
      "source": [
        "Também é possivel trabalhar com expressões matemáticas usando a sintaxy do [LaTeX](http://www.latex-project.org/).\n",
        "\n",
        "Para expressões em linha pode-se fazer $ f(x) = \\frac{x^2}{2} $.\n",
        "\n",
        "Outras formas:\n",
        "\n",
        "\\begin{equation}\n",
        "g(x) = \\sqrt{3x - 1}\n",
        "\\end{equation}\n",
        "\n",
        "[Matrizes com Latex](https://www.math-linux.com/latex-26/faq/latex-faq/article/how-to-write-matrices-in-latex-matrix-pmatrix-bmatrix-vmatrix-vmatrix)\n",
        "\n",
        "\\begin{equation*}\n",
        "B = \n",
        "\\begin{bmatrix}\n",
        "a & b & c \\\\\n",
        "d & e & f \\\\\n",
        "g & h & i\n",
        "\\end{bmatrix}\n",
        "\\end{equation*}\n",
        "\n",
        "<!-- Quebra de linhas em Latex: \\\\ -->\n",
        "<!-- E isso é uma documentação em Markdown (ctrl + /, cria esse espaço de comentario, funciona nas celulas de codigo também, mas no caso irá escrever: #, que é o simbolo para comentario em python) -->\n",
        "\n",
        "\\\\\n",
        "\n",
        "\n",
        "\\begin{equation*}\n",
        "A_{m,n} = \n",
        "\\begin{pmatrix}\n",
        "a_{1,1} & a_{1,2} & \\cdots & a_{1,n} \\\\\n",
        "a_{2,1} & a_{2,2} & \\cdots & a_{2,n} \\\\\n",
        "\\vdots  & \\vdots  & \\ddots & \\vdots  \\\\\n",
        "a_{m,1} & a_{m,2} & \\cdots & a_{m,n} \n",
        "\\end{pmatrix}\n",
        "\\end{equation*}\n",
        "\n"
      ]
    },
    {
      "cell_type": "code",
      "metadata": {
        "id": "L3Asvgfn6axd",
        "colab_type": "code",
        "cellView": "form",
        "colab": {}
      },
      "source": [
        "#@title Nome aqui\n",
        "slider = 69 #@param {type:\"slider\", min:0, max:100, step:1}\n",
        "\n",
        "print('Slider com valor:', slider)"
      ],
      "execution_count": 0,
      "outputs": []
    },
    {
      "cell_type": "code",
      "metadata": {
        "id": "2mD6m40dmkG7",
        "colab_type": "code",
        "cellView": "both",
        "colab": {}
      },
      "source": [
        "#@title Formulário\n",
        "entrada = \"Qualquer coisa\" #@param {type:\"string\"}\n",
        "\n",
        "print(entrada)"
      ],
      "execution_count": 0,
      "outputs": []
    },
    {
      "cell_type": "code",
      "metadata": {
        "id": "YcOE9is__ju0",
        "colab_type": "code",
        "colab": {}
      },
      "source": [
        "#@title Formulário { run: \"auto\", vertical-output: true, display-mode: \"form\" }\n",
        "nome = \"Gabriel\" #@param {type:\"string\"}\n",
        "data = \"2020-06-08\" #@param {type:\"date\"}\n",
        "slider = 52 #@param {type:\"slider\", min:0, max:100, step:1}\n",
        "dropdown = \"Option 2\" #@param [\"Option 1\", \"Option 2\", \"Option 3\"]\n",
        "# O notebook form é uma maneira de criar uma interface \n",
        "# entre o usuário as células de código.\n",
        "\n",
        "print(\"Nome:{}\".format(nome))\n",
        "print(\"A data selecionada foi {}\".format(data))\n",
        "print(\"Slider está em {}%\".format(slider))\n",
        "print(\"A opção selecionada foi a {}\".format(dropdown))\n",
        "\n",
        "print(type(nome))\n",
        "print(type(data))\n",
        "print(type(slider))\n",
        "print(type(dropdown))\n",
        "\n"
      ],
      "execution_count": 0,
      "outputs": []
    },
    {
      "cell_type": "markdown",
      "metadata": {
        "id": "qM_GGTpyt1vJ",
        "colab_type": "text"
      },
      "source": [
        "# Python como calculadora"
      ]
    },
    {
      "cell_type": "code",
      "metadata": {
        "id": "Q5q7-DHa_cY6",
        "colab_type": "code",
        "colab": {}
      },
      "source": [
        "# Aritmetica básica\n",
        "# Mais interessante utilizar como cálcula quando se está interagindo com o interpretador\n",
        "# por linha de comando\n",
        "\n",
        "0.5 + 1\n",
        "# 0.5 - 1\n",
        "# 10.0/(2 + 5)\n",
        "# 2*2\n",
        "# 2**2    #potência\n",
        "# 4**1/2\n",
        "# 3 % 2   #resto da divisão (módulo)\n",
        "\n",
        "# Variaveis e expressões maiores\n",
        "\n",
        "# t = 1.0\n",
        "# g = 9.81\n",
        "# v = 3\n",
        "# x = 0 + v*t + (g*t**2)/2.0\n",
        "# x"
      ],
      "execution_count": 0,
      "outputs": []
    },
    {
      "cell_type": "markdown",
      "metadata": {
        "id": "WMt6mNVPGBic",
        "colab_type": "text"
      },
      "source": [
        "\\begin{equation}\n",
        "x(t) = x_0 + vt + \\frac{at^2}{2}\n",
        "\\end{equation}"
      ]
    },
    {
      "cell_type": "code",
      "metadata": {
        "id": "_L5f9U7vCgXr",
        "colab_type": "code",
        "colab": {}
      },
      "source": [
        "# Tenha em mente que existe imprecisão, \n",
        "# são insignificantes para a maioria das aplicações comuns, mas pode se tornar um problema para outras,\n",
        "# o python possui alguns meios para contornar isso, mas não serão abordados aqui.\n",
        "0.2 + 0.1"
      ],
      "execution_count": 0,
      "outputs": []
    },
    {
      "cell_type": "code",
      "metadata": {
        "id": "SwZa8VlDE3He",
        "colab_type": "code",
        "colab": {}
      },
      "source": [
        "# importa mais funções matematicas\n",
        "import math\n",
        "\n",
        "# math.log(math.e)\n",
        "# math.log10(10)\n",
        "# math.sqrt(9)\n",
        "# math.cos(math.pi/2.0)\n",
        "# math.sin(math.pi/2.0)\n",
        "# math.degrees( math.acos(0) )\n",
        "# math.isclose(1.0, 1.01, rel_tol=0.01)\n",
        "# 1/math.inf"
      ],
      "execution_count": 0,
      "outputs": []
    },
    {
      "cell_type": "markdown",
      "metadata": {
        "id": "p6ojgGDFuTk9",
        "colab_type": "text"
      },
      "source": [
        "# Python básico"
      ]
    },
    {
      "cell_type": "markdown",
      "metadata": {
        "id": "XlU94YKlu_0J",
        "colab_type": "text"
      },
      "source": [
        "## Tipos básicos de dados"
      ]
    },
    {
      "cell_type": "code",
      "metadata": {
        "id": "cjYCvvn2F4PL",
        "colab_type": "code",
        "colab": {}
      },
      "source": [
        "# inteiro\n",
        "# variavel = 0\n",
        "variavel = int()\n",
        "print(\"variavel = {} do tipo = {}\".format(variavel, type(variavel)))"
      ],
      "execution_count": 0,
      "outputs": []
    },
    {
      "cell_type": "code",
      "metadata": {
        "id": "5bvwEgfFG0tI",
        "colab_type": "code",
        "colab": {}
      },
      "source": [
        "# float\n",
        "variavel = 0.0\n",
        "# variavel = float()\n",
        "print(\"variavel = {} do tipo = {}\".format(variavel, type(variavel)))"
      ],
      "execution_count": 0,
      "outputs": []
    },
    {
      "cell_type": "code",
      "metadata": {
        "id": "rqajLWRpIN7b",
        "colab_type": "code",
        "colab": {}
      },
      "source": [
        "#booleano\n",
        "variavel = False\n",
        "# variavel = bool()\n",
        "print(\"variavel = {} do tipo = {}\".format(variavel, type(variavel)))"
      ],
      "execution_count": 0,
      "outputs": []
    },
    {
      "cell_type": "code",
      "metadata": {
        "id": "rV6aJHTgJGeX",
        "colab_type": "code",
        "colab": {}
      },
      "source": [
        "#complex\n",
        "# variavel = 1 + 5j\n",
        "variavel = complex()\n",
        "print(\"variavel = {} do tipo = {}\".format(variavel, type(variavel)))"
      ],
      "execution_count": 0,
      "outputs": []
    },
    {
      "cell_type": "code",
      "metadata": {
        "id": "aYdxsd1w8uDL",
        "colab_type": "code",
        "colab": {}
      },
      "source": [
        "# obs.: O módulo numpy pode substituir o cmath e suporta mais algumas operações com números complexos\n",
        "import cmath\n",
        "\n",
        "\n",
        "z1 = complex(5,10)\n",
        "z2 = 1 + 2j\n",
        "\n",
        "z3 = z1 + z2\n",
        "cmath.phase(z3)\n",
        "\n",
        "z3_polar = cmath.polar(z3)\n",
        "\n",
        "cmath.rect(z3_polar[0], z3_polar[1])"
      ],
      "execution_count": 0,
      "outputs": []
    },
    {
      "cell_type": "code",
      "metadata": {
        "id": "zWdFWYjQHM-r",
        "colab_type": "code",
        "colab": {}
      },
      "source": [
        "# string\n",
        "variavel = ''\n",
        "# variavel = str()\n",
        "print(\"variavel = {} do tipo = {}\".format(variavel, type(variavel)))"
      ],
      "execution_count": 0,
      "outputs": []
    },
    {
      "cell_type": "code",
      "metadata": {
        "id": "4ZLvuDB8pPly",
        "colab_type": "code",
        "colab": {}
      },
      "source": [
        "# 'concatenação' + ' de ' + 'strings'\n",
        "5*' repetição '"
      ],
      "execution_count": 0,
      "outputs": []
    },
    {
      "cell_type": "markdown",
      "metadata": {
        "id": "6QoOgdLfvHJD",
        "colab_type": "text"
      },
      "source": [
        "## Documentação e as funções: help() e dir()"
      ]
    },
    {
      "cell_type": "markdown",
      "metadata": {
        "id": "jHomR6j9MwTN",
        "colab_type": "text"
      },
      "source": [
        "**dir**: lista todos os métodos/funções\n",
        "\n",
        "**help**: Documentação dos métodos"
      ]
    },
    {
      "cell_type": "code",
      "metadata": {
        "id": "nbIUvgTqMbg9",
        "colab_type": "code",
        "colab": {}
      },
      "source": [
        "# ctrl + space  (depende do ambiente de desenvolvimento e pode ser modificado) lista as propriedades e métodos disponiveis\n",
        "texto = 'help lista 4s propr1edades e os métodos disponiveis'\n",
        "# texto.upper()\n",
        "# texto.count('a')\n",
        "# texto.find('4')\n",
        "# texto = texto.replace('4', 'a').replace('1', 'i')\n",
        "# texto\n",
        "texto.replace(' ', '_') + '.txt'\n"
      ],
      "execution_count": 0,
      "outputs": []
    },
    {
      "cell_type": "markdown",
      "metadata": {
        "id": "yrRT8FkSt8kg",
        "colab_type": "text"
      },
      "source": [
        "## [Entrada e saída de dados](https://docs.python.org/3/tutorial/inputoutput.html)"
      ]
    },
    {
      "cell_type": "code",
      "metadata": {
        "id": "1f41PuHYPwly",
        "colab_type": "code",
        "colab": {}
      },
      "source": [
        "# input devolve uma string\n",
        "entrada = input(\"Digite alguma coisa:\\n\")\n",
        "print(type(entrada))\n",
        "\n",
        "print(\"Você digitou => {} \".format(entrada))\n",
        "# print('alguma ' , ' coisa' , 'aqui ' ,1.0 , 5.0 )"
      ],
      "execution_count": 0,
      "outputs": []
    },
    {
      "cell_type": "code",
      "metadata": {
        "colab_type": "code",
        "id": "28H6mwO2TDRp",
        "colab": {}
      },
      "source": [
        "# converter para outros tipos\n",
        "entrada = float(input(\"Digite um numero:\\n\"))\n",
        "print(type(entrada))\n",
        "print(\"Você digitou => {}\".format(entrada))\n",
        "\n"
      ],
      "execution_count": 0,
      "outputs": []
    },
    {
      "cell_type": "code",
      "metadata": {
        "colab_type": "code",
        "id": "X7WxYqBNSvfS",
        "colab": {}
      },
      "source": [
        "#@title Formulário { run: \"auto\", vertical-output: true, display-mode: \"form\" }\n",
        "nome = \"Gabriel\" #@param {type:\"string\"}\n",
        "data = \"2020-06-08\" #@param {type:\"date\"}\n",
        "slider = 63 #@param {type:\"slider\", min:0, max:100, step:1}\n",
        "dropdown = \"Option 3\" #@param [\"Option 1\", \"Option 2\", \"Option 3\"]\n",
        "# O notebook form é uma maneira de criar uma interface \n",
        "# entre o usuário as células de código.\n",
        "\n",
        "print(\"Nome:{}\".format(nome))\n",
        "print(\"A data selecionada foi {}\".format(data))\n",
        "print(\"Slider está em {}%\".format(slider))\n",
        "print(\"A opção selecionada foi a {}\".format(dropdown))\n",
        "\n",
        "print(type(nome))\n",
        "print(type(data))\n",
        "print(type(slider))\n",
        "print(type(dropdown))\n",
        "\n"
      ],
      "execution_count": 0,
      "outputs": []
    },
    {
      "cell_type": "code",
      "metadata": {
        "id": "mFmN8uqSTRbd",
        "colab_type": "code",
        "colab": {}
      },
      "source": [
        "# Print e o format\n",
        "# var = 'Texto qualquer \\n var1 = {} \\n var2 = {} \\n var3 = {}\\n'.format('Palavra', 0.1, True)\n",
        "var = 'Texto qualquer \\n var1 = {2} \\n var2 = {0} \\n var3 = {1}\\n'.format('Palavra', 0.1, True)\n",
        "# var = 'Texto qualquer \\n var1 = {0} \\n var2 = {1} \\n var3 = {1}\\n'.format('Palavra', 0.1, True)\n",
        "print('Texto qualquer \\n var1 = {2} \\n var2 = {0} \\n var3 = {1}\\n'.format('Palavra', 0.1, True))\n",
        "\n",
        "# print('Texto qualquer \\n var1 = {} \\n var2 = {} \\n var3 = {}'.format('String', 0.0, False))"
      ],
      "execution_count": 0,
      "outputs": []
    },
    {
      "cell_type": "code",
      "metadata": {
        "id": "-lAKjs5gke1X",
        "colab_type": "code",
        "colab": {}
      },
      "source": [
        "# Print floats\n",
        "print('{0:.4}'.format(1e-4))"
      ],
      "execution_count": 0,
      "outputs": []
    },
    {
      "cell_type": "markdown",
      "metadata": {
        "id": "9Fbugb95lB9r",
        "colab_type": "text"
      },
      "source": [
        "Mais sobre a função Print e o format: https://pyformat.info/"
      ]
    },
    {
      "cell_type": "markdown",
      "metadata": {
        "id": "GCW79DPQvjJR",
        "colab_type": "text"
      },
      "source": [
        "## Estruturas Lógicas"
      ]
    },
    {
      "cell_type": "code",
      "metadata": {
        "id": "IRxW2tIwELG3",
        "colab_type": "code",
        "colab": {}
      },
      "source": [
        "x = 2\n",
        "# x == 2.0\n",
        "# x != 2.0\n",
        "# x in [0,1,6,3, 5]\n",
        "# not (x == 2)\n",
        "# (x % 2 == 0) and (x > 2)\n",
        "# (x % 2 == 0) or (x <= 2)) \n",
        "# 0 < x <= 1"
      ],
      "execution_count": 0,
      "outputs": []
    },
    {
      "cell_type": "code",
      "metadata": {
        "id": "pwwx4t6tC8GM",
        "colab_type": "code",
        "colab": {}
      },
      "source": [
        "x = 4\n",
        "if (x % 2) == 0:\n",
        "  print('Dentro do if')\n",
        "  if x > 2:\n",
        "    print('X maior do que 2')\n",
        "elif x == 3:\n",
        "  print('Entrou no else if')   \n",
        "else:\n",
        "  print('Entrou no else')"
      ],
      "execution_count": 0,
      "outputs": []
    },
    {
      "cell_type": "code",
      "metadata": {
        "id": "LEqWSFgBEnBf",
        "colab_type": "code",
        "colab": {}
      },
      "source": [
        "#@title Formulário\n",
        "dia_da_semana =  5#@param {type:\"integer\"}\n",
        "\n",
        "if 1 <= dia_da_semana <= 7:\n",
        "  if dia_da_semana == 1:\n",
        "    print(\"Domingo\")\n",
        "  elif dia_da_semana == 2:\n",
        "    print(\"Segunda feira\")\n",
        "  elif dia_da_semana == 3:\n",
        "    print(\"Terça feira\")\n",
        "  elif dia_da_semana == 4:\n",
        "    print(\"Quarta feira\")\n",
        "  elif dia_da_semana == 5:\n",
        "    print(\"Quinta feira\")\n",
        "  elif dia_da_semana == 6:\n",
        "    print(\"Sexta feira\")\n",
        "  else:\n",
        "    print(\"Sábado feira\")\n",
        "else:\n",
        "  print(\"Entrada invalida\")"
      ],
      "execution_count": 0,
      "outputs": []
    },
    {
      "cell_type": "code",
      "metadata": {
        "id": "Ee67CYcIHhPe",
        "colab_type": "code",
        "colab": {}
      },
      "source": [
        "lista_permitidos = ['Fulano0', 'Fulano1', 'Fulano2', 'Fulano3']\n",
        "\n",
        "'Fulano' in lista_permitidos"
      ],
      "execution_count": 0,
      "outputs": []
    },
    {
      "cell_type": "markdown",
      "metadata": {
        "id": "lrHOMUvvvny3",
        "colab_type": "text"
      },
      "source": [
        "## Estruturas de Repetição e iterators"
      ]
    },
    {
      "cell_type": "code",
      "metadata": {
        "id": "bhNFStERE2RR",
        "colab_type": "code",
        "colab": {}
      },
      "source": [
        "for i in [0, 1, 2 ,3 ,4]:\n",
        "  print(i)"
      ],
      "execution_count": 0,
      "outputs": []
    },
    {
      "cell_type": "code",
      "metadata": {
        "id": "3wPXUdsxKiQO",
        "colab_type": "code",
        "colab": {}
      },
      "source": [
        "for var in range(5):\n",
        "  print(var)"
      ],
      "execution_count": 0,
      "outputs": []
    },
    {
      "cell_type": "code",
      "metadata": {
        "id": "_ED_e_1Svwpi",
        "colab_type": "code",
        "colab": {}
      },
      "source": [
        "var = 0\n",
        "while var < 2:\n",
        "  print(var)\n",
        "  var = var + 1"
      ],
      "execution_count": 0,
      "outputs": []
    },
    {
      "cell_type": "code",
      "metadata": {
        "id": "9k2FQhwuKmlN",
        "colab_type": "code",
        "colab": {}
      },
      "source": [
        "numero = -1\n",
        "lim_inf= 0.0\n",
        "lim_sup= 2.0\n",
        "\n",
        "# while (numero < lim_inf) or (numero > lim_sup):\n",
        "while not(lim_inf <= numero <= lim_sup):\n",
        "  print('\\n Número fora do intervalo \\n')\n",
        "  numero = float(input('Informe um número que respeita a sequinte regra: {} <= numero <= {}\\n'.format(lim_inf, lim_sup)))\n",
        "\n",
        "print('OK, entrada válida!')"
      ],
      "execution_count": 0,
      "outputs": []
    },
    {
      "cell_type": "code",
      "metadata": {
        "id": "jM0U62TXNuhA",
        "colab_type": "code",
        "colab": {}
      },
      "source": [
        "lista = [0, 2, 4, 8, 16, 32, 64, 128]\n",
        "for i in lista:\n",
        "  # processamento item a item aqui\n",
        "  print(i)"
      ],
      "execution_count": 0,
      "outputs": []
    },
    {
      "cell_type": "code",
      "metadata": {
        "id": "QwgYbnRANIn0",
        "colab_type": "code",
        "colab": {}
      },
      "source": [
        "frase = 'Uma string também pode ser percorrida. Uma string nada mais é do que um conjunto de caracteres'\n",
        "\n",
        "\n",
        "# for letra in frase:\n",
        "#   print(letra)\n",
        "\n",
        "lista_palavras = frase.split(' ')\n",
        "for palavra in lista_palavras:\n",
        "  print(palavra)\n",
        "\n",
        "# frase.split('.')"
      ],
      "execution_count": 0,
      "outputs": []
    },
    {
      "cell_type": "markdown",
      "metadata": {
        "id": "gPFHn48LvsHm",
        "colab_type": "text"
      },
      "source": [
        "## Coleções básicas (containers)"
      ]
    },
    {
      "cell_type": "markdown",
      "metadata": {
        "id": "c2xh_ZJcvuWI",
        "colab_type": "text"
      },
      "source": [
        "### Listas (list)"
      ]
    },
    {
      "cell_type": "code",
      "metadata": {
        "id": "KWKvKUXb21Dp",
        "colab_type": "code",
        "colab": {}
      },
      "source": [
        "lista = [1, 2 , 3 , 4]\n"
      ],
      "execution_count": 0,
      "outputs": []
    },
    {
      "cell_type": "code",
      "metadata": {
        "id": "Q2MtN0yeOf8n",
        "colab_type": "code",
        "colab": {}
      },
      "source": [
        "# lista = list()\n",
        "lista = []\n",
        "\n",
        "for i in range(10):\n",
        "  lista.append(i)\n",
        "  # lista.append('String')\n",
        "\n",
        "print(lista)\n",
        "\n",
        "# lista[1]\n",
        "# lista[1:5]\n",
        "# lista[0:5:2]\n",
        "lista.count(10)"
      ],
      "execution_count": 0,
      "outputs": []
    },
    {
      "cell_type": "code",
      "metadata": {
        "id": "AKJyFttimv_8",
        "colab_type": "code",
        "colab": {}
      },
      "source": [
        "lista = [1, 2]*10\n",
        "print(type(lista))\n",
        "print(lista)"
      ],
      "execution_count": 0,
      "outputs": []
    },
    {
      "cell_type": "markdown",
      "metadata": {
        "id": "8V8eKoj3vwOu",
        "colab_type": "text"
      },
      "source": [
        "### Tuplas"
      ]
    },
    {
      "cell_type": "markdown",
      "metadata": {
        "id": "ul5baCjAQcG4",
        "colab_type": "text"
      },
      "source": [
        "**Tuplas** diferem das **listas**, pois são imutáveis, não é possivel alterar os elementos, não se pode exclui-los, substituí-los ou adicionar novos."
      ]
    },
    {
      "cell_type": "code",
      "metadata": {
        "id": "gkUUZzz3PZDZ",
        "colab_type": "code",
        "colab": {}
      },
      "source": [
        "# Tuplas são craidas usando parênteses \n",
        "tupla1 = (1,2,3)\n",
        "tupla2 = ('casa', 'nome')\n",
        "\n",
        "tupla3 = tupla1 + tupla2\n",
        "tupla3\n",
        "\n",
        "# type(tupla3)"
      ],
      "execution_count": 0,
      "outputs": []
    },
    {
      "cell_type": "markdown",
      "metadata": {
        "id": "S4qoaxcCv1In",
        "colab_type": "text"
      },
      "source": [
        "### Dicionários (dict)"
      ]
    },
    {
      "cell_type": "code",
      "metadata": {
        "id": "Pn6kGJv9SFHC",
        "colab_type": "code",
        "colab": {}
      },
      "source": [
        "# Conceito de chave | valor\n",
        "# dicionários são criados usando-se chaves '{}'.  {key: value}\n",
        "dicionario = {1:'Domingo', 2:'Segunda', 3:'Terça', 4:'Quarta', 5:'Quinta', 6:'Sexta', 7:'Sábado'}\n",
        "# dicionario\n",
        "\n",
        "# for i in dicionario:\n",
        "#   print('Chave:{} | Valor:{}'.format(i, dicionario[i]))\n",
        "\n",
        "permitidos_semana = {'Domingo': ['Fulano0', 'Fulano1'],\n",
        "                     'Segunda': ['Fulano2', 'Fulano3'],\n",
        "                     'Terça':   ['Fulano0', 'Fulano6'],\n",
        "                     'Quarta':  ['Fulano0'],\n",
        "                     'Quinta':  ['Fulano2'],\n",
        "                     'Sexta':   ['Fulano5', 'Fulano6'],\n",
        "                     'Sábado':  ['Fulano0', 'Fulano1', 'Fulano4']}\n",
        "print(20*'-')\n",
        "for chave in permitidos_semana:\n",
        "  print('Chave:{} <=> Valor:{}'.format(chave, permitidos_semana[chave]))                     \n",
        " "
      ],
      "execution_count": 0,
      "outputs": []
    },
    {
      "cell_type": "markdown",
      "metadata": {
        "id": "nJk0D5W1wPZ9",
        "colab_type": "text"
      },
      "source": [
        "##  Declaração e uso de funções"
      ]
    },
    {
      "cell_type": "code",
      "metadata": {
        "id": "9wqJQXbEKKhp",
        "colab_type": "code",
        "colab": {}
      },
      "source": [
        "def funcao(x0, x1):\n",
        "  y = x0 ** 2 + x1\n",
        "  return y"
      ],
      "execution_count": 0,
      "outputs": []
    },
    {
      "cell_type": "code",
      "metadata": {
        "id": "ODXu13rtVC-b",
        "colab_type": "code",
        "colab": {}
      },
      "source": [
        "# sintaxe:\n",
        "# def nome(parametros):\n",
        "#   processamento\n",
        "#   return resultado\n",
        "\n",
        "# não existe um controle de que tipo de dado vai entrar na função\n",
        "\n",
        "# aqui se espera entrar dois numeros que possuem resposta ao operador '+'\n",
        "def soma(x, y):\n",
        "  print('Tipo de x = {}'.format(type(x)))\n",
        "  print('Tipo de y = {}'.format(type(y)))\n",
        "  return x + y\n",
        "\n",
        "soma(5, 10)"
      ],
      "execution_count": 0,
      "outputs": []
    },
    {
      "cell_type": "markdown",
      "metadata": {
        "id": "7SzmP2ICYOvF",
        "colab_type": "text"
      },
      "source": [
        "Cálculo da distância euclidiana para vetores 3D,\n",
        "Sejam A e B dois vetores em $R^{3}$\n",
        "\n",
        "\\\\\n",
        "\n",
        "\n",
        "\\begin{equation}\n",
        "D = \\sqrt{(A.x - B.x)^2 + (A.y - B.y)^2 + (A.z - B.z)^2}\n",
        "\\end{equation}"
      ]
    },
    {
      "cell_type": "code",
      "metadata": {
        "id": "NDJxh1DR6aIA",
        "colab_type": "code",
        "colab": {}
      },
      "source": [
        "def distancia3D(VectorA, VectorB):\n",
        "  part_soma = (VectorA[0] - VectorB[0])**2 +  (VectorA[1] - VectorB[1])**2 + (VectorA[2] - VectorB[2])**2\n",
        "  D = part_soma**0.5\n",
        "  return D\n",
        "A = [0,0, 2]\n",
        "B = [0,0, 1]\n",
        "\n",
        "distancia3D(A,B)"
      ],
      "execution_count": 0,
      "outputs": []
    },
    {
      "cell_type": "code",
      "metadata": {
        "id": "s293pPckN61A",
        "colab_type": "code",
        "colab": {}
      },
      "source": [
        "# tupla = (0, 'texto', 1.5)\n",
        "\n",
        "# tupla[0] = 'outro valor'\n",
        "lista = [0, 'texto', 1.5]\n",
        "lista[0] = 'outro valor'\n",
        "lista"
      ],
      "execution_count": 0,
      "outputs": []
    },
    {
      "cell_type": "code",
      "metadata": {
        "id": "KEsG_F1hYN7d",
        "colab_type": "code",
        "colab": {}
      },
      "source": [
        "# Função mais completa\n",
        "\n",
        "# função que calcula a distancia euclidiana entre dois pontos no espaço N dimensional\n",
        "def distancia(VectorA, VectorB):\n",
        "  # Caso os vetores não sejam do mesmo tamanho\n",
        "  if len(VectorA) != len(VectorB):\n",
        "    return -1.0\n",
        "  N = len(VectorA)\n",
        "  dist = 0.0\n",
        "  for i in range(N):\n",
        "    dist = dist + (VectorA[i] - VectorB[i])**2\n",
        "  dist = dist ** 0.5\n",
        "  return dist\n",
        "\n",
        "A = [0, 0 , 0, 0, 0]\n",
        "B = [0, 10, 0, 0, 0]\n",
        "\n",
        "d = distancia(A,B)\n",
        "# if d == -1:\n",
        "#   print('Deu errado o valor deu: ')\n",
        "# else:\n",
        "#   print('Deu certo e o resultado é:')"
      ],
      "execution_count": 0,
      "outputs": []
    },
    {
      "cell_type": "markdown",
      "metadata": {
        "id": "tPCyhIbfwlPL",
        "colab_type": "text"
      },
      "source": [
        "## [Básico sobre Programação Orientada a objetos (POO)](https://docs.python.org/pt-br/3/tutorial/classes.html)"
      ]
    },
    {
      "cell_type": "markdown",
      "metadata": {
        "id": "gwcq4-1TwmsD",
        "colab_type": "text"
      },
      "source": [
        "### Classes e Objetos"
      ]
    },
    {
      "cell_type": "code",
      "metadata": {
        "id": "5uVYZ3agQ7LX",
        "colab_type": "code",
        "colab": {}
      },
      "source": [
        "class Complex:\n",
        "  def __init__(self, real = 0, img = 0):\n",
        "    self._a = real\n",
        "    self._b = img\n",
        "  def soma(self, Z):\n",
        "    result = Complex()\n",
        "    result._a = self._a + Z._a\n",
        "    result._b = self._b + Z._b\n",
        "    return result  \n",
        "       \n",
        "z1 = Complex()\n",
        "z2 = Complex(5, 2)\n",
        "\n",
        "# z3 = z1.soma(z2)\n",
        "# print(z3.a, z3.b)\n",
        "# print(f1.cor_padrao)\n",
        "# print(f1.cor_padrao)\n",
        "\n",
        "# print(f2.cor_padrao)\n",
        "# f1.lancar()"
      ],
      "execution_count": 0,
      "outputs": []
    },
    {
      "cell_type": "code",
      "metadata": {
        "id": "49dPRdp_OKcf",
        "colab_type": "code",
        "outputId": "d07f98be-7c8a-44af-80d5-b01d46c06fab",
        "colab": {
          "base_uri": "https://localhost:8080/",
          "height": 85
        }
      },
      "source": [
        "class Animal:\n",
        "  # Variavel compartilhada por todos os objetos desta classe\n",
        "  tipo_base = 'Animal'\n",
        "  def __init__(self, nome, idade = 0):\n",
        "    self._nome = nome\n",
        "    self._idade= idade\n",
        "  def falar(self):\n",
        "    print('Animal tentando se comunicar...')\n",
        "  def description(self):\n",
        "    msg = '*** Descrição do Animal ***'\n",
        "    msg += '\\nNome: {}'.format(self._nome)\n",
        "    msg += '\\nIdade: {}'.format(self._idade)\n",
        "    return msg\n",
        "animal1 = Animal('Animal')\n",
        "animal1.falar()\n",
        "\n",
        "print(animal1.description())"
      ],
      "execution_count": 0,
      "outputs": [
        {
          "output_type": "stream",
          "text": [
            "Animal tentando se comunicar...\n",
            "*** Descrição do Animal ***\n",
            "Nome: Animal\n",
            "Idade: 0\n"
          ],
          "name": "stdout"
        }
      ]
    },
    {
      "cell_type": "code",
      "metadata": {
        "id": "aOc-D5YiyHFV",
        "colab_type": "code",
        "colab": {}
      },
      "source": [
        "animalA = Animal('Animal A')\n",
        "animalB = Animal('Animal B')\n",
        "print(animalA.tipo, animalB.tipo)\n",
        "animalA.nome"
      ],
      "execution_count": 0,
      "outputs": []
    },
    {
      "cell_type": "markdown",
      "metadata": {
        "id": "VOQjI58awqyL",
        "colab_type": "text"
      },
      "source": [
        "### Herança e Polimorfismo"
      ]
    },
    {
      "cell_type": "code",
      "metadata": {
        "id": "zjHn5964OK3B",
        "colab_type": "code",
        "colab": {}
      },
      "source": [
        "class Cachorro(Animal):\n",
        "  _tipo = 'Cachorro'\n",
        "  def __init__(self, nome, idade = 0, cor_do_pelo = ''):\n",
        "    super().__init__(nome, idade)\n",
        "    self._idade = idade\n",
        "    self._cor_do_pelo = cor_do_pelo\n",
        "  def falar(self):\n",
        "    return self._nome + ':' +'Auauau...'\n",
        "  def description(self):\n",
        "    msg = super().description()\n",
        "    msg += '\\nTipo Base: {}'.format(super().tipo_base)\n",
        "    msg += '\\nTipo: {}'.format(self._tipo)\n",
        "    msg += '\\nCor do pelo: {}'.format(self._cor_do_pelo) \n",
        "    return msg\n",
        "\n",
        "class Gato(Animal):\n",
        "  _tipo= 'Gato'\n",
        "  def __init__(self, nome, idade = 0, cor_do_pelo = ''):\n",
        "    super().__init__(nome)\n",
        "    self._idade = idade\n",
        "    self._cor_do_pelo = cor_do_pelo\n",
        "  def falar(self):\n",
        "    return self.nome + ': Miau...'\n",
        "  def description(self):\n",
        "    msg = super().description()\n",
        "    msg += '\\nTipo Base: {}'.format(super().tipo_base)\n",
        "    msg += '\\nTipo: {}'.format(self._tipo)\n",
        "    msg += '\\nCor do pelo: {}'.format(self._cor_do_pelo)\n",
        "    return msg"
      ],
      "execution_count": 0,
      "outputs": []
    },
    {
      "cell_type": "code",
      "metadata": {
        "id": "a_t8YQ9-9Bvr",
        "colab_type": "code",
        "outputId": "25a5bfb4-979d-4251-8039-e3a7e73577ac",
        "colab": {
          "base_uri": "https://localhost:8080/",
          "height": 68
        }
      },
      "source": [
        "# Crie um objeto do tipo animal e veja o que é possivel fazer\n",
        "animal = Animal('Animal sem Nome')\n",
        "print(animal.description())"
      ],
      "execution_count": 0,
      "outputs": [
        {
          "output_type": "stream",
          "text": [
            "*** Descrição do Animal ***\n",
            "Nome: Animal sem Nome\n",
            "Idade: 0\n"
          ],
          "name": "stdout"
        }
      ]
    },
    {
      "cell_type": "code",
      "metadata": {
        "id": "Qhawlm5l9T4T",
        "colab_type": "code",
        "outputId": "b4d3483d-acf2-4742-d061-68a294ba23f5",
        "colab": {
          "base_uri": "https://localhost:8080/",
          "height": 136
        }
      },
      "source": [
        "# Crie um animal do tipo cachorro\n",
        "dog = Cachorro('Cachorro', idade = 3, cor_do_pelo='Marrom')\n",
        "print(dog.description())\n",
        "print(dog.falar())"
      ],
      "execution_count": 0,
      "outputs": [
        {
          "output_type": "stream",
          "text": [
            "*** Descrição do Animal ***\n",
            "Nome: Cachorro\n",
            "Idade: 3\n",
            "Tipo Base: Animal\n",
            "Tipo: Cachorro\n",
            "Cor do pelo: Marrom\n",
            "Cachorro:Auauau...\n"
          ],
          "name": "stdout"
        }
      ]
    },
    {
      "cell_type": "code",
      "metadata": {
        "id": "funtw9RgAZvw",
        "colab_type": "code",
        "outputId": "065aea46-ee73-4463-f3b6-d631732dba32",
        "colab": {
          "base_uri": "https://localhost:8080/",
          "height": 119
        }
      },
      "source": [
        "cat = Gato(nome = 'O Gato', idade = 5)\n",
        "print(cat.description())\n",
        "# print(cat.falar())"
      ],
      "execution_count": 0,
      "outputs": [
        {
          "output_type": "stream",
          "text": [
            "*** Descrição do Animal ***\n",
            "Nome: O Gato\n",
            "Idade: 5\n",
            "Tipo Base: Animal\n",
            "Tipo: Gato\n",
            "Cor do pelo: \n"
          ],
          "name": "stdout"
        }
      ]
    },
    {
      "cell_type": "code",
      "metadata": {
        "id": "FlTh4drLSxnF",
        "colab_type": "code",
        "colab": {}
      },
      "source": [
        "class FormaGeometrica:\n",
        "  def calc_area(self):\n",
        "    pass\n",
        "\n",
        "class Quadrado(FormaGeometrica):\n",
        "  def __init__(self,base):\n",
        "    self.base = base\n",
        "  def calc_area(self):\n",
        "    return self.base * self.base\n",
        "\n",
        "class Circulo(FormaGeometrica):\n",
        "  def __init__(self, raio):\n",
        "    self.raio = raio\n",
        "  def calc_area(self):\n",
        "    return self.raio * self.raio * 3.14\n",
        " "
      ],
      "execution_count": 0,
      "outputs": []
    },
    {
      "cell_type": "code",
      "metadata": {
        "id": "pu69p5kKTnfx",
        "colab_type": "code",
        "colab": {}
      },
      "source": [
        "# código 3 polimorfismo\n",
        "quad1 = Quadrado(2)\n",
        "quad2 = Quadrado(3)\n",
        "cir1 = Circulo(1)\n",
        "cir2 = Circulo(2)\n",
        "\n",
        "formas_geometricas = [quad1, quad2 , cir1, cir2]\n",
        "\n",
        "soma=0\n",
        "for forma in formas_geometricas:\n",
        "  soma = soma + forma.calc_area()\n",
        "\n",
        "print(\"a area foi de {}\".format(soma))\n"
      ],
      "execution_count": 0,
      "outputs": []
    },
    {
      "cell_type": "markdown",
      "metadata": {
        "id": "awe9wmWHw1Es",
        "colab_type": "text"
      },
      "source": [
        "# [Módulos Python](http://turing.com.br/pydoc/2.7/tutorial/modules.html)\n"
      ]
    },
    {
      "cell_type": "markdown",
      "metadata": {
        "id": "H1TnJ-WpNoyq",
        "colab_type": "text"
      },
      "source": [
        "Os módulos em python aumentam o número de funcionalidades disponiveis no script python, como por exemplo o módulo *math* utilizado na seção anterior.\n",
        "\n",
        "Para incluir um módulo basta utilizar o **import** e o nome do módulo."
      ]
    },
    {
      "cell_type": "markdown",
      "metadata": {
        "id": "Bw4E6WxuOSu6",
        "colab_type": "text"
      },
      "source": [
        "Dentro de um módulo contem diversas funções e novos tipos de dados, inclusive outros módulos/submódulos, para utilizar basta escrever o nome do pacote, no caso **math** + **.** + **função/submódulo**."
      ]
    },
    {
      "cell_type": "code",
      "metadata": {
        "id": "d1_kj0T4OssC",
        "colab_type": "code",
        "colab": {}
      },
      "source": [
        "# importa o pacote math\n",
        "import math\n",
        "\n",
        "math.fabs(-10.0)\n",
        "math.cos(0)"
      ],
      "execution_count": 0,
      "outputs": []
    },
    {
      "cell_type": "markdown",
      "metadata": {
        "id": "TegI9c5rO_KB",
        "colab_type": "text"
      },
      "source": [
        "**Variações de importação**\n",
        "\n"
      ]
    },
    {
      "cell_type": "code",
      "metadata": {
        "id": "q6KSbPAoPJHA",
        "colab_type": "code",
        "colab": {}
      },
      "source": [
        "# importa apenas a função fabs\n",
        "from math import fabs\n",
        "fabs(-10)"
      ],
      "execution_count": 0,
      "outputs": []
    },
    {
      "cell_type": "code",
      "metadata": {
        "id": "FLouxR3APZ9B",
        "colab_type": "code",
        "colab": {}
      },
      "source": [
        "# seleciona alguns módulos do pacote\n",
        "from math import sqrt, sin, cos, pi, e\n",
        "\n",
        "print(sqrt(9))\n",
        "print(sin(pi))\n",
        "print(cos(pi))\n",
        "print(e)"
      ],
      "execution_count": 0,
      "outputs": []
    },
    {
      "cell_type": "code",
      "metadata": {
        "id": "LKZ7LEpDR2uH",
        "colab_type": "code",
        "colab": {}
      },
      "source": [
        "# importa tudo\n",
        "from math import *\n",
        "sqrt(4)"
      ],
      "execution_count": 0,
      "outputs": []
    },
    {
      "cell_type": "markdown",
      "metadata": {
        "id": "fIUncsQ2w6g-",
        "colab_type": "text"
      },
      "source": [
        "# [Medindo tempo (Módulo time)](https://docs.python.org/pt-br/3/library/time.html)"
      ]
    },
    {
      "cell_type": "markdown",
      "metadata": {
        "id": "85ihb__RQsqT",
        "colab_type": "text"
      },
      "source": [
        "**Obs**.: Para operações com datas, recomendo ler sobre o módulo nátivo: [datetime](https://docs.python.org/3/library/datetime.html)"
      ]
    },
    {
      "cell_type": "code",
      "metadata": {
        "id": "GbGRXIPN8Ukl",
        "colab_type": "code",
        "colab": {}
      },
      "source": [
        "import time\n",
        "\n",
        "start = time.time()\n",
        "for i in range(0,10000000):\n",
        "  pass\n",
        "end = time.time()\n",
        "\n",
        "print(\"O loop levou {:6.2f}s para ser completado\".format(end - start))"
      ],
      "execution_count": 0,
      "outputs": []
    },
    {
      "cell_type": "code",
      "metadata": {
        "id": "9d35lR14KATv",
        "colab_type": "code",
        "colab": {}
      },
      "source": [
        "inicio = time.time()\n",
        "time.sleep(2)\n",
        "fim = time.time()\n",
        "\n",
        "print('Programa passou {} segundos parado'.format(fim - inicio))"
      ],
      "execution_count": 0,
      "outputs": []
    },
    {
      "cell_type": "code",
      "metadata": {
        "id": "7IXoIdjbLmh-",
        "colab_type": "code",
        "colab": {}
      },
      "source": [
        "# Tempo no padrão UTC (antigo GMT)\n",
        "hoje_UTC = time.gmtime()\n",
        "hoje_UTC"
      ],
      "execution_count": 0,
      "outputs": []
    },
    {
      "cell_type": "code",
      "metadata": {
        "id": "p8dhk_6cJFLH",
        "colab_type": "code",
        "colab": {}
      },
      "source": [
        "# No colab provavelmente não irá diferir o localtime do gmtime\n",
        "# mas em sua máquina local deverá ficar com a hora local correta\n",
        "hoje_local = time.localtime()\n",
        "print(hoje_local)"
      ],
      "execution_count": 0,
      "outputs": []
    },
    {
      "cell_type": "code",
      "metadata": {
        "id": "vbBO48rtMY8C",
        "colab_type": "code",
        "colab": {}
      },
      "source": [
        "# data formatada\n",
        "# recebe uma estrutura do tipo time e retona uma string no padrão de data inglês\n",
        "\n",
        "# Sem parametro é utilizado com o localtime\n",
        "print(time.asctime())\n",
        "\n",
        "hoje = time.localtime()\n",
        "print(time.asctime(hoje))"
      ],
      "execution_count": 0,
      "outputs": []
    },
    {
      "cell_type": "code",
      "metadata": {
        "id": "tqnyMDTNNjgJ",
        "colab_type": "code",
        "colab": {}
      },
      "source": [
        "# Fazendo a própria formatação\n",
        "from time import gmtime, strftime\n",
        "texto_hoje = strftime(\"%A, %d %b %Y %H:%M:%S\", gmtime())\n",
        "\n",
        "print(texto_hoje)"
      ],
      "execution_count": 0,
      "outputs": []
    },
    {
      "cell_type": "markdown",
      "metadata": {
        "id": "G-GHkk88xIS6",
        "colab_type": "text"
      },
      "source": [
        "# Trabalhando com arquivos (leitura e escrita)"
      ]
    },
    {
      "cell_type": "markdown",
      "metadata": {
        "id": "CgxKYH2fkcxh",
        "colab_type": "text"
      },
      "source": [
        "| Simbolo | Modo |\n",
        "|:-------:|:----:|\n",
        "| r | read |\n",
        "| w | write (overwrite) |\n",
        "| a | append |\n",
        "\n",
        "See more: https://www.w3schools.com/python/python_file_write.asp"
      ]
    },
    {
      "cell_type": "code",
      "metadata": {
        "id": "fRspgAgWED_z",
        "colab_type": "code",
        "colab": {}
      },
      "source": [
        "arquivo = open('primeiro.txt', 'w')\n",
        "arquivo.write('Alguma coisa e um número {}'.format(5.5))\n",
        "\n",
        "arquivo.close()"
      ],
      "execution_count": 0,
      "outputs": []
    },
    {
      "cell_type": "code",
      "metadata": {
        "id": "a4wqyGN-EUl-",
        "colab_type": "code",
        "outputId": "79e2672d-0546-4e56-fdf4-69c24a0ff851",
        "colab": {
          "base_uri": "https://localhost:8080/",
          "height": 34
        }
      },
      "source": [
        "arquivo = open('primeiro.txt', 'r')\n",
        "\n",
        "texto = arquivo.readline()\n",
        "\n",
        "arquivo.close()\n",
        "\n",
        "print(texto)"
      ],
      "execution_count": 0,
      "outputs": [
        {
          "output_type": "stream",
          "text": [
            "Alguma coisa e um número 5.5\n"
          ],
          "name": "stdout"
        }
      ]
    },
    {
      "cell_type": "code",
      "metadata": {
        "id": "23MFx2cwjmoL",
        "colab_type": "code",
        "cellView": "code",
        "colab": {}
      },
      "source": [
        "# Escrevendo em arquivo\n",
        "arq_nomes = open('nomes.txt', 'w')\n",
        "\n",
        "listaNomes = []\n",
        "for i in range(10):\n",
        "  listaNomes.append('Fulano_'+str(i))\n",
        "print(listaNomes)\n",
        "\n",
        "# arq_nomes.writelines(listaNomes)\n",
        "for nome in listaNomes:\n",
        "  arq_nomes.write(nome + '\\n')\n",
        "\n",
        "arq_nomes.close()"
      ],
      "execution_count": 0,
      "outputs": []
    },
    {
      "cell_type": "code",
      "metadata": {
        "id": "KpD1AWfov7h-",
        "colab_type": "code",
        "colab": {}
      },
      "source": [
        "arq_nomes = open('nomes.txt', 'a')\n",
        "\n",
        "nomes = list()\n",
        "for i in range(10,20):\n",
        "  nomes.append('Fulano_'+str(i))\n",
        "\n",
        "for nome in nomes:\n",
        "  arq_nomes.write(nome + '\\n')\n",
        "\n",
        "arq_nomes.close()"
      ],
      "execution_count": 0,
      "outputs": []
    },
    {
      "cell_type": "code",
      "metadata": {
        "id": "er6pwamGltHB",
        "colab_type": "code",
        "colab": {}
      },
      "source": [
        "# Lendo arquivo\n",
        "\n",
        "# erro caso não encontre o arquivo\n",
        "# arq = open('nomes', 'r')\n",
        "arq_nomes = open('nomes.txt', 'r')\n",
        "nomes = list()\n",
        "\n",
        "\n",
        "for line in arq_nomes:\n",
        "  print(line)\n",
        "  nomes.append(line)\n",
        "\n",
        "print(nomes)\n",
        "\n",
        "arq_nomes.close()"
      ],
      "execution_count": 0,
      "outputs": []
    },
    {
      "cell_type": "markdown",
      "metadata": {
        "id": "KOS-h9wzxRoI",
        "colab_type": "text"
      },
      "source": [
        "# Ferramentas matemáticas com Numpy e Scipy"
      ]
    },
    {
      "cell_type": "markdown",
      "metadata": {
        "id": "7fuF3YmD1B0h",
        "colab_type": "text"
      },
      "source": [
        "Referências oficiais: [Numpy](https://numpy.org/), [Scipy](https://www.scipy.org/).\n",
        "\n",
        "Tutorial inicial Numpy: https://numpy.org/doc/stable/user/quickstart.html"
      ]
    },
    {
      "cell_type": "markdown",
      "metadata": {
        "id": "NgN2QEEHz9Xg",
        "colab_type": "text"
      },
      "source": [
        "O módulo **Numpy** é o módulo matemático básico de todos os outros módulos cientificos, como por exemplo o **Scipy** que falaremos adiante. O Numpy por sua vez se baseia nos módulos básicos do Python mas também acrescenta muitas outras novas funcionalidades, porém para coisas básicas, ele pode ser simplesmente substituido pelo módulo **math** ou **cmath**(para números complexos) do proprio kernel do python, tendo em mente que o **Numpy** é um módulo externo, sendo necessário sua instalação."
      ]
    },
    {
      "cell_type": "markdown",
      "metadata": {
        "id": "E94MN97uxbO5",
        "colab_type": "text"
      },
      "source": [
        "## [Arrays/Matrizes](https://numpy.org/doc/stable/user/quickstart.html#an-example)"
      ]
    },
    {
      "cell_type": "code",
      "metadata": {
        "id": "wSWa6UGLgJql",
        "colab_type": "code",
        "colab": {}
      },
      "source": [
        "import numpy as np\n",
        "# arange cria um array \n",
        "A = np.arange(0,25)\n",
        "print('Matriz A:\\n{}'.format(A))\n",
        "print('Size = ', A.size)\n",
        "print('Dimensão = ', A.shape)\n",
        "print('Soma = ',A.sum())\n",
        "print('Menor valor = ',A.min())\n",
        "print('Maior valor = ',A.max())\n",
        "print('Média = ', A.mean())"
      ],
      "execution_count": 0,
      "outputs": []
    },
    {
      "cell_type": "code",
      "metadata": {
        "id": "HR7oQwIwlRbM",
        "colab_type": "code",
        "outputId": "8099f091-361b-4e6a-9e72-6d5cb79ef0ac",
        "colab": {
          "base_uri": "https://localhost:8080/",
          "height": 238
        }
      },
      "source": [
        "import numpy as np\n",
        "# arange cria um array \n",
        "A = np.arange(0,25).reshape(5,5)\n",
        "print('Matriz A:\\n{}'.format(A))\n",
        "print('Size = ', A.size)\n",
        "print('Dimensão = ', A.shape)\n",
        "print('Soma = ',A.sum())\n",
        "print('Menor valor = ',A.min())\n",
        "print('Maior valor = ',A.max())\n",
        "print('Média = ', A.mean())\n",
        "print('Desvio Padrão = ', A.std())\n"
      ],
      "execution_count": 0,
      "outputs": [
        {
          "output_type": "stream",
          "text": [
            "Matriz A:\n",
            "[[ 0  1  2  3  4]\n",
            " [ 5  6  7  8  9]\n",
            " [10 11 12 13 14]\n",
            " [15 16 17 18 19]\n",
            " [20 21 22 23 24]]\n",
            "Size =  25\n",
            "Dimensão =  (5, 5)\n",
            "Soma =  300\n",
            "Menor valor =  0\n",
            "Maior valor =  24\n",
            "Média =  12.0\n",
            "Desvio Padrão =  7.211102550927978\n"
          ],
          "name": "stdout"
        }
      ]
    },
    {
      "cell_type": "code",
      "metadata": {
        "id": "MY9-OXUr5nMv",
        "colab_type": "code",
        "outputId": "e5a6c9dc-8bf9-4a50-9f28-efa83a918b09",
        "colab": {
          "base_uri": "https://localhost:8080/",
          "height": 374
        }
      },
      "source": [
        "import numpy as np\n",
        "\n",
        "# Matriz identidade\n",
        "identidade = np.identity(5)\n",
        "print(\"Matriz identidade \\n {} \\n\".format(identidade))\n",
        "# Matriz de zeros\n",
        "zeros = np.zeros((5,5))\n",
        "print(\"Matriz de zeros \\n {} \\n\".format(zeros))\n",
        "\n",
        "# Multiplicação por escalar\n",
        "A = identidade * 10\n",
        "print(\"Multiplicação por escalar \\n {} \\n\".format(A))\n"
      ],
      "execution_count": 0,
      "outputs": [
        {
          "output_type": "stream",
          "text": [
            "Matriz identidade \n",
            " [[1. 0. 0. 0. 0.]\n",
            " [0. 1. 0. 0. 0.]\n",
            " [0. 0. 1. 0. 0.]\n",
            " [0. 0. 0. 1. 0.]\n",
            " [0. 0. 0. 0. 1.]] \n",
            "\n",
            "Matriz de zeros \n",
            " [[0. 0. 0. 0. 0.]\n",
            " [0. 0. 0. 0. 0.]\n",
            " [0. 0. 0. 0. 0.]\n",
            " [0. 0. 0. 0. 0.]\n",
            " [0. 0. 0. 0. 0.]] \n",
            "\n",
            "Multiplicação por escalar \n",
            " [[10.  0.  0.  0.  0.]\n",
            " [ 0. 10.  0.  0.  0.]\n",
            " [ 0.  0. 10.  0.  0.]\n",
            " [ 0.  0.  0. 10.  0.]\n",
            " [ 0.  0.  0.  0. 10.]] \n",
            "\n"
          ],
          "name": "stdout"
        }
      ]
    },
    {
      "cell_type": "code",
      "metadata": {
        "id": "8f4ugx_yjHsf",
        "colab_type": "code",
        "outputId": "54836b28-22ac-4a92-93f5-1d51db4dab4b",
        "colab": {
          "base_uri": "https://localhost:8080/",
          "height": 425
        }
      },
      "source": [
        "import numpy as np\n",
        "A = np.identity(3)\n",
        "print('A\\n',A)\n",
        "B = np.array( [1,1,1,0,0,0,0,0,0] ).reshape(3,3)\n",
        "print('B\\n',B)\n",
        "\n",
        "# Soma\n",
        "print('A + B\\n', A + B)\n",
        "\n",
        "# Multiplicação elemento a elemento\n",
        "print('A * B\\n', A * B)\n",
        "\n",
        "# Multiplicação matricial\n",
        "print('A @ B\\n', A @ B)\n",
        "# ou\n",
        "print('A . B\\n', A.dot(B))"
      ],
      "execution_count": 0,
      "outputs": [
        {
          "output_type": "stream",
          "text": [
            "A\n",
            " [[1. 0. 0.]\n",
            " [0. 1. 0.]\n",
            " [0. 0. 1.]]\n",
            "B\n",
            " [[1 1 1]\n",
            " [0 0 0]\n",
            " [0 0 0]]\n",
            "A + B\n",
            " [[2. 1. 1.]\n",
            " [0. 1. 0.]\n",
            " [0. 0. 1.]]\n",
            "A * B\n",
            " [[1. 0. 0.]\n",
            " [0. 0. 0.]\n",
            " [0. 0. 0.]]\n",
            "A @ B\n",
            " [[1. 1. 1.]\n",
            " [0. 0. 0.]\n",
            " [0. 0. 0.]]\n",
            "A . B\n",
            " [[1. 1. 1.]\n",
            " [0. 0. 0.]\n",
            " [0. 0. 0.]]\n"
          ],
          "name": "stdout"
        }
      ]
    },
    {
      "cell_type": "code",
      "metadata": {
        "id": "KFyveVxk3Wor",
        "colab_type": "code",
        "outputId": "d2ce02b2-c1db-4405-c53b-5d6a94a03338",
        "colab": {
          "base_uri": "https://localhost:8080/",
          "height": 170
        }
      },
      "source": [
        "# Acessando os elementos\n",
        "import numpy as np\n",
        "A = np.arange(0,25).reshape(5,5)\n",
        "print('Matriz:\\n',A)\n",
        "# Elemento\n",
        "print(A[0,1])\n",
        "# Selecionando uma linha\n",
        "print(A[0,:])\n",
        "# Selecionando uma coluna\n",
        "print(A[:,4])"
      ],
      "execution_count": 0,
      "outputs": [
        {
          "output_type": "stream",
          "text": [
            "Matriz:\n",
            " [[ 0  1  2  3  4]\n",
            " [ 5  6  7  8  9]\n",
            " [10 11 12 13 14]\n",
            " [15 16 17 18 19]\n",
            " [20 21 22 23 24]]\n",
            "1\n",
            "[0 1 2 3 4]\n",
            "[ 4  9 14 19 24]\n"
          ],
          "name": "stdout"
        }
      ]
    },
    {
      "cell_type": "code",
      "metadata": {
        "id": "4-gsw4LX4kiv",
        "colab_type": "code",
        "outputId": "c621b2ce-82cb-432e-e8f0-b15a05da252b",
        "colab": {
          "base_uri": "https://localhost:8080/",
          "height": 187
        }
      },
      "source": [
        "import numpy as np\n",
        "A = np.arange(15).reshape(5,3)\n",
        "print('A:\\n',A)\n",
        "# Transposta\n",
        "print('Transposta:\\n',A.T)"
      ],
      "execution_count": 0,
      "outputs": [
        {
          "output_type": "stream",
          "text": [
            "A:\n",
            " [[ 0  1  2]\n",
            " [ 3  4  5]\n",
            " [ 6  7  8]\n",
            " [ 9 10 11]\n",
            " [12 13 14]]\n",
            "Transposta:\n",
            " [[ 0  3  6  9 12]\n",
            " [ 1  4  7 10 13]\n",
            " [ 2  5  8 11 14]]\n"
          ],
          "name": "stdout"
        }
      ]
    },
    {
      "cell_type": "code",
      "metadata": {
        "id": "JQ2AHCWT5iUY",
        "colab_type": "code",
        "outputId": "0c32eddd-fc03-433a-aa92-426b1041ce0e",
        "colab": {
          "base_uri": "https://localhost:8080/",
          "height": 34
        }
      },
      "source": [
        "# Arrays/Matrizes não fazem copias ao utilizar o operador '='\n",
        "# B se torna uma referencia para A, ou seja, A e B manipulam os mesmos dados (mesma matriz)\n",
        "import numpy as np\n",
        "A = np.arange(15).reshape(5,3)\n",
        "\n",
        "B = A\n",
        "\n",
        "A.shape = (3,5)\n",
        "\n",
        "B.shape\n",
        "\n",
        "# A is B"
      ],
      "execution_count": 0,
      "outputs": [
        {
          "output_type": "execute_result",
          "data": {
            "text/plain": [
              "(3, 5)"
            ]
          },
          "metadata": {
            "tags": []
          },
          "execution_count": 115
        }
      ]
    },
    {
      "cell_type": "code",
      "metadata": {
        "id": "YOTfbp126-_2",
        "colab_type": "code",
        "colab": {}
      },
      "source": [
        "# O retorno de uma \"Fatia\" uma matriz também é uma referência a matriz original\n",
        "A = np.arange(25).reshape(5,5)\n",
        "# Alterando a linha 2 e 3\n",
        "# A[2:4,:] = -1\n",
        "# A\n",
        "c = A[2:4, :]\n",
        "c\n",
        "c[:] = -1\n",
        "A"
      ],
      "execution_count": 0,
      "outputs": []
    },
    {
      "cell_type": "code",
      "metadata": {
        "id": "6cw1XbHJ7s-l",
        "colab_type": "code",
        "colab": {}
      },
      "source": [
        "# Para fazer copias é necessario utilizar o método copy\n",
        "import numpy as np\n",
        "A = np.arange(25).reshape(5,5)\n",
        "B = A.copy()\n",
        "B is A"
      ],
      "execution_count": 0,
      "outputs": []
    },
    {
      "cell_type": "code",
      "metadata": {
        "id": "zBoOuMIW8OdS",
        "colab_type": "code",
        "outputId": "c8471056-5617-4abe-9840-5649cc8c404b",
        "colab": {
          "base_uri": "https://localhost:8080/",
          "height": 221
        }
      },
      "source": [
        "# Matriz inversa\n",
        "import numpy as np\n",
        "from numpy import linalg\n",
        "\n",
        "\n",
        "A = np.random.rand(3,3)\n",
        "\n",
        "if linalg.det(A) == 0.0:\n",
        "  print('Matriz não possui inversa')\n",
        "else:\n",
        "  invA = linalg.inv(A)\n",
        "  print('inv(A):\\n',invA)\n",
        "  print('A . inv(A):\\n', invA.dot(A))\n",
        "  r = A @ invA\n",
        "  r[r < 0.01] = 0\n",
        "  print('A . inv(A):\\n', r)"
      ],
      "execution_count": 0,
      "outputs": [
        {
          "output_type": "stream",
          "text": [
            "inv(A):\n",
            " [[ 0.32297303 -0.99576888  2.19356568]\n",
            " [-3.28105612  2.51396884  0.35704858]\n",
            " [ 3.32575573 -1.38921345 -0.70213   ]]\n",
            "A . inv(A):\n",
            " [[ 1.00000000e+00 -2.17837179e-16 -2.45738801e-16]\n",
            " [ 3.33058224e-18  1.00000000e+00 -4.04316133e-17]\n",
            " [ 4.21692938e-17 -5.92942163e-17  1.00000000e+00]]\n",
            "A . inv(A):\n",
            " [[1. 0. 0.]\n",
            " [0. 1. 0.]\n",
            " [0. 0. 1.]]\n"
          ],
          "name": "stdout"
        }
      ]
    },
    {
      "cell_type": "code",
      "metadata": {
        "id": "J7EQwqZh_5MW",
        "colab_type": "code",
        "outputId": "23c9f21c-44dd-4289-94b6-2c25580f79ab",
        "colab": {
          "base_uri": "https://localhost:8080/",
          "height": 34
        }
      },
      "source": [
        "import numpy as np\n",
        "# identidade\n",
        "A = np.arange(30).reshape(10,-1) #-1 indica que essa dimensão pode ser uma que funcione para esse array\n",
        "A.shape"
      ],
      "execution_count": 0,
      "outputs": [
        {
          "output_type": "execute_result",
          "data": {
            "text/plain": [
              "(10, 3)"
            ]
          },
          "metadata": {
            "tags": []
          },
          "execution_count": 120
        }
      ]
    },
    {
      "cell_type": "markdown",
      "metadata": {
        "id": "YRLmKqXmCFKb",
        "colab_type": "text"
      },
      "source": [
        "Considerando o seguinte sistema:\n",
        "\n",
        "\\begin{cases}\n",
        "4x_0 + 3x_1 + 2x_2 = 25 \\\\\n",
        "-2x_0 + 2x_1 + 3x_2= -10\\\\\n",
        "3x_0 - 5x_1 + 2x_2 = -4\n",
        "\\end{cases}\n",
        "\n",
        "Modelando em matrizes, $Ax = b$,\n",
        "\n",
        "\n",
        "\\begin{equation*}\n",
        "\\begin{bmatrix}\n",
        "4 & 3 & 2\\\\\n",
        "-2& 2 & 3\\\\\n",
        "3 & -5& 2\n",
        "\\end{bmatrix}\n",
        "\\begin{bmatrix}\n",
        "x_0\\\\\n",
        "x_1\\\\\n",
        "x_2\n",
        "\\end{bmatrix}\n",
        "=\n",
        "\\begin{bmatrix}\n",
        "25  \\\\\n",
        "-10 \\\\\n",
        "-4 \n",
        "\\end{bmatrix}\n",
        "\\end{equation*}\n",
        "\n",
        "Logo,\n",
        "\n",
        "\\begin{equation*}\n",
        "A=\n",
        "\\begin{bmatrix}\n",
        "4 & 3 & 2\\\\\n",
        "-2& 2 & 3\\\\\n",
        "3 & -5& 2\n",
        "\\end{bmatrix}\n",
        "\\\\\n",
        "b = \n",
        "\\begin{bmatrix}\n",
        "25  \\\\\n",
        "-10 \\\\\n",
        "-4 \n",
        "\\end{bmatrix}\n",
        "\\end{equation*}\n",
        "\n",
        "Pode ser resolvido, caso a matriz $A$ possua inversa, da seguinte maneira:\n",
        "\n",
        "\\begin{equation}\n",
        "x = A^{-1}b\n",
        "\\end{equation}\n"
      ]
    },
    {
      "cell_type": "code",
      "metadata": {
        "id": "obihXoAMJ_K6",
        "colab_type": "code",
        "outputId": "ee1bcb14-a012-4a1c-e969-bd5a68328741",
        "colab": {
          "base_uri": "https://localhost:8080/",
          "height": 119
        }
      },
      "source": [
        "# Criando as matrizes A e b\n",
        "import numpy as np\n",
        "\n",
        "# duas maneiras para criar uma matriz\n",
        "# opção 1: Criar um vetor linha e dps usar reshape\n",
        "A = np.array([4,3,2,-2,2,3,3,-5,2]).reshape(3,3)\n",
        "# opção 2: Criar uma matriz direto, Matriz 2D = [[l1], [l2], [l3], ...]\n",
        "# A = np.array([[4,3,2],[-2,2,3],[3,-5,2]])\n",
        "\n",
        "print('Matriz A:\\n{}'.format(A))\n",
        "b = np.array([25,-10,-4])\n",
        "print('Matriz b:\\n{}'.format(b))"
      ],
      "execution_count": 0,
      "outputs": [
        {
          "output_type": "stream",
          "text": [
            "Matriz A:\n",
            "[[ 4  3  2]\n",
            " [-2  2  3]\n",
            " [ 3 -5  2]]\n",
            "Matriz b:\n",
            "[ 25 -10  -4]\n"
          ],
          "name": "stdout"
        }
      ]
    },
    {
      "cell_type": "code",
      "metadata": {
        "id": "Ttkc8xOmGBH-",
        "colab_type": "code",
        "outputId": "e4775899-c7d5-4138-fc98-fbb6268082ab",
        "colab": {
          "base_uri": "https://localhost:8080/",
          "height": 85
        }
      },
      "source": [
        "# Calculando a matriz de solução\n",
        "x = np.array(0)\n",
        "if np.linalg.det(A) == 0.0:\n",
        "  print('Sistema sem solução única')\n",
        "else:\n",
        "  x = np.linalg.inv(A) @ b\n",
        "print('Solução x:\\n',x)\n",
        "print('Teste Ax ?= b\\n', A @ x)"
      ],
      "execution_count": 0,
      "outputs": [
        {
          "output_type": "stream",
          "text": [
            "Solução x:\n",
            " [ 5.  3. -2.]\n",
            "Teste Ax ?= b\n",
            " [ 25. -10.  -4.]\n"
          ],
          "name": "stdout"
        }
      ]
    },
    {
      "cell_type": "code",
      "metadata": {
        "id": "nQVtDPbGJ50S",
        "colab_type": "code",
        "outputId": "fbb616f9-7c9c-443b-88ed-0432550deda7",
        "colab": {
          "base_uri": "https://localhost:8080/",
          "height": 85
        }
      },
      "source": [
        "# Calculando a solução usando a função solve\n",
        "x = np.linalg.solve(A,b)\n",
        "print('Solução x:\\n',x)\n",
        "print('Teste Ax ?= b\\n', A @ x)"
      ],
      "execution_count": 0,
      "outputs": [
        {
          "output_type": "stream",
          "text": [
            "Solução x:\n",
            " [ 5.  3. -2.]\n",
            "Teste Ax ?= b\n",
            " [ 25. -10.  -4.]\n"
          ],
          "name": "stdout"
        }
      ]
    },
    {
      "cell_type": "markdown",
      "metadata": {
        "id": "4DPBV4nIxWbG",
        "colab_type": "text"
      },
      "source": [
        "##  Números aleatórios (com Numpy)"
      ]
    },
    {
      "cell_type": "code",
      "metadata": {
        "id": "Iku3IBa8zFlK",
        "colab_type": "code",
        "cellView": "both",
        "colab": {}
      },
      "source": [
        "import numpy as np \n",
        "\n",
        "size = 5\n",
        "ruido = np.random.rand(size)\n",
        "\n",
        "print(ruido)\n",
        "print(\"Tipo {}\\n\".format(type(ruido)))\n",
        "print(\"Dimensões: {}\".format(ruido.shape))"
      ],
      "execution_count": 0,
      "outputs": []
    },
    {
      "cell_type": "code",
      "metadata": {
        "id": "gtf9i4BlStvZ",
        "colab_type": "code",
        "colab": {}
      },
      "source": [
        "import matplotlib.pyplot as plt\n",
        "# v = np.random.normal(size=10000)\n",
        "v = np.random.triangular(-4, 0, 4, 100000)\n",
        "# v = np.random.uniform(size=100000)\n",
        "plt.hist(v, bins=200,  density=True)\n",
        "plt.show()"
      ],
      "execution_count": 0,
      "outputs": []
    },
    {
      "cell_type": "markdown",
      "metadata": {
        "id": "xwxR0PTSxOdw",
        "colab_type": "text"
      },
      "source": [
        "## [Gráficos com Matplotlib](https://matplotlib.org/tutorials/introductory/usage.html#sphx-glr-tutorials-introductory-usage-py)"
      ]
    },
    {
      "cell_type": "markdown",
      "metadata": {
        "id": "JxB9edHsQA9M",
        "colab_type": "text"
      },
      "source": [
        "<!-- ![alt text](https://matplotlib.org/_images/anatomy.png)\n",
        "<image>img =  </image> -->\n",
        "\n",
        "<img src=\"https://matplotlib.org/_images/anatomy.png\" alt=\"drawing\" width=\"600\"/>\n"
      ]
    },
    {
      "cell_type": "code",
      "metadata": {
        "id": "rw_rrg7iQViE",
        "colab_type": "code",
        "outputId": "5523839a-7ac5-4c63-8b19-73a08cedc353",
        "colab": {
          "base_uri": "https://localhost:8080/",
          "height": 265
        }
      },
      "source": [
        "import matplotlib.pyplot as plt\n",
        "import numpy as np\n",
        "\n",
        "plt.plot( [0,1,2,3], [5, 4, 3, 2] )\n",
        "plt.show()"
      ],
      "execution_count": 0,
      "outputs": [
        {
          "output_type": "display_data",
          "data": {
            "image/png": "[encoded data removed]",
            "text/plain": [
              "<Figure size 432x288 with 1 Axes>"
            ]
          },
          "metadata": {
            "tags": [],
            "needs_background": "light"
          }
        }
      ]
    },
    {
      "cell_type": "code",
      "metadata": {
        "id": "ZHIWHpdxxAgT",
        "colab_type": "code",
        "colab": {}
      },
      "source": [
        "# Exemplo simples\n",
        "import matplotlib.pyplot as plt\n",
        "import numpy as np\n",
        "\n",
        "x = np.linspace(0, 2*np.pi, 100)\n",
        "y = np.sin(x)\n",
        "\n",
        "plt.plot(x,y)\n",
        "plt.show()"
      ],
      "execution_count": 0,
      "outputs": []
    },
    {
      "cell_type": "code",
      "metadata": {
        "id": "O5nmqdwKSUnG",
        "colab_type": "code",
        "outputId": "8949e829-2ed4-4f18-e3e7-9cfa5e06bbcf",
        "colab": {
          "base_uri": "https://localhost:8080/",
          "height": 295
        }
      },
      "source": [
        "import matplotlib.pyplot as plt\n",
        "import numpy as np\n",
        "\n",
        "x = np.linspace(0, 2, 100)\n",
        "\n",
        "# Adicionando as linhas\n",
        "plt.plot(x, x, label='linear')      \n",
        "plt.plot(x, x**2, label='quadratic')\n",
        "plt.plot(x, x**3, label='cubic')\n",
        "# Adicionando legendas e título\n",
        "plt.xlabel('x label')  # Add an x-label to the axes.\n",
        "plt.ylabel('y label')  # Add a y-label to the axes.\n",
        "plt.title(\"Simple Plot\")  # Add a title to the axes.\n",
        "plt.legend()  # habilita a legenda\n",
        "plt.grid() # habilita o grid\n",
        "\n",
        "# Ajustando os limites dos eixos\n",
        "# plt.xlim([0,1.5])\n",
        "# plt.ylim([0,4])\n",
        "\n",
        "# plt.savefig('plot.png')\n",
        "plt.show()"
      ],
      "execution_count": 0,
      "outputs": [
        {
          "output_type": "display_data",
          "data": {
            "image/png": "[encoded data removed]",
            "text/plain": [
              "<Figure size 432x288 with 1 Axes>"
            ]
          },
          "metadata": {
            "tags": [],
            "needs_background": "light"
          }
        }
      ]
    },
    {
      "cell_type": "code",
      "metadata": {
        "id": "oSI5UVOZPlah",
        "colab_type": "code",
        "outputId": "4255bebc-ce44-475b-a7fb-b800831dda95",
        "colab": {
          "base_uri": "https://localhost:8080/",
          "height": 265
        }
      },
      "source": [
        "# Subplots\n",
        "import matplotlib.pyplot as plt\n",
        "import numpy as np\n",
        "\n",
        "t = np.linspace(0, 2*np.pi, 100)\n",
        "\n",
        "fig, axes = plt.subplots(2,2)\n",
        "axes[0,0].plot(t, np.sin(t), label='Sin(t)')\n",
        "axes[0,1].plot(t, np.cos(t), label='Cos(t)')\n",
        "axes[1,0].plot(t, np.sin(t)+ np.cos(t), label='Sin(t) + Cos(t)')\n",
        "axes[1,1].plot(t, np.sin(t)**2 + np.cos(t)**2, label='Sin(t)^2 + Cos(t)^2')\n",
        "\n",
        "axes[0,0].legend()\n",
        "axes[0,1].legend()\n",
        "axes[1,0].legend()\n",
        "axes[1,1].legend()\n",
        "\n",
        "fig.savefig('multPlot.png')\n",
        "\n",
        "fig.show()"
      ],
      "execution_count": 0,
      "outputs": [
        {
          "output_type": "display_data",
          "data": {
            "image/png": "[encoded data removed]",
            "text/plain": [
              "<Figure size 432x288 with 4 Axes>"
            ]
          },
          "metadata": {
            "tags": [],
            "needs_background": "light"
          }
        }
      ]
    },
    {
      "cell_type": "code",
      "metadata": {
        "id": "XCzKOwYVzduI",
        "colab_type": "code",
        "outputId": "1a7d7fc9-6600-4e23-ad97-5595a8cb7e18",
        "colab": {
          "base_uri": "https://localhost:8080/",
          "height": 318
        }
      },
      "source": [
        "import matplotlib.pyplot as plt\n",
        "import numpy as np\n",
        "# Outra forma de fazer multiplos plots (Segue a mesma lógica da anterior, mas usa plt.subplot() )\n",
        "# Exemplo tirado de: https://matplotlib.org/tutorials/introductory/pyplot.html#sphx-glr-tutorials-introductory-pyplot-py\n",
        "# gerando dados\n",
        "x = np.linspace(-10, 10, 100)\n",
        "\n",
        "# Multiplos plot num mesmo figure\n",
        "plt.figure()\n",
        "\n",
        "# linear\n",
        "plt.subplot(221)\n",
        "plt.plot(x, x**2)\n",
        "plt.title(r'$ x^2 $')\n",
        "plt.grid(True)\n",
        "\n",
        "\n",
        "# log\n",
        "plt.subplot(222)\n",
        "plt.plot(x, x**3)\n",
        "plt.title(r'$x^3$')\n",
        "plt.grid(True)\n",
        "\n",
        "\n",
        "# symmetric log\n",
        "plt.subplot(223)\n",
        "plt.plot(x, np.exp(x) )\n",
        "plt.title(r'$ e^x $')\n",
        "# plt.yscale('log')\n",
        "plt.grid(True)\n",
        "\n",
        "# logit\n",
        "plt.subplot(224)\n",
        "plt.plot(x, np.exp(-x))\n",
        "plt.title(r'$e^{-x}$')\n",
        "# plt.yscale('log')\n",
        "plt.grid(True)\n",
        "\n",
        "# Ajustando o layout\n",
        "plt.subplots_adjust(top=0.95, bottom=0.08, left=0.10, right=0.95, hspace=0.5,\n",
        "                    wspace=0.35)\n",
        "\n",
        "plt.show()"
      ],
      "execution_count": 0,
      "outputs": [
        {
          "output_type": "display_data",
          "data": {
            "image/png": "[encoded data removed]",
            "text/plain": [
              "<Figure size 432x288 with 4 Axes>"
            ]
          },
          "metadata": {
            "tags": [],
            "needs_background": "light"
          }
        }
      ]
    },
    {
      "cell_type": "markdown",
      "metadata": {
        "id": "hIMSYuo7xfho",
        "colab_type": "text"
      },
      "source": [
        "## [Raiz de uma função](https://docs.scipy.org/doc/scipy/reference/generated/scipy.optimize.root_scalar.html#scipy.optimize.root_scalar)"
      ]
    },
    {
      "cell_type": "code",
      "metadata": {
        "id": "OAK2ORu4DxE6",
        "colab_type": "code",
        "colab": {}
      },
      "source": [
        "from scipy import optimize as opt\n",
        "import matplotlib.pyplot as plt\n",
        "import numpy as np\n",
        "\n",
        "\n",
        "def f(x):\n",
        "  return -(x + 2)**3\n",
        "\n",
        "x = np.linspace(-10,10,100)\n",
        "plt.plot(x, f(x))\n",
        "\n",
        "sol = opt.root_scalar(f, bracket=[-3,3] , method='brentq')\n",
        "print(sol)\n",
        "print('Raiz = {}'.format(sol.root))\n",
        "\n",
        "plt.plot(sol.root, f(sol.root), 'g*')\n",
        "plt.show()"
      ],
      "execution_count": 0,
      "outputs": []
    },
    {
      "cell_type": "code",
      "metadata": {
        "id": "DKRmlAsGnN-C",
        "colab_type": "code",
        "outputId": "fca3dab0-2278-4a75-cc61-18b82db761b2",
        "colab": {
          "base_uri": "https://localhost:8080/",
          "height": 282
        }
      },
      "source": [
        "# Outra forma\n",
        "# Fornecendo um ponto inicial\n",
        "# https://docs.scipy.org/doc/scipy/reference/generated/scipy.optimize.fsolve.html\n",
        "from scipy import optimize as opt\n",
        "import matplotlib.pyplot as plt\n",
        "import numpy as np\n",
        "\n",
        "def f(x):\n",
        "  return 5*np.sin(x)\n",
        "\n",
        "x = np.linspace(-10, 10, 100)\n",
        "plt.plot(x, f(x))\n",
        "\n",
        "raiz = opt.fsolve(f, 7)\n",
        "print(raiz)\n",
        "\n",
        "plt.plot(raiz, f(raiz), 'ro')\n",
        "plt.show()"
      ],
      "execution_count": 0,
      "outputs": [
        {
          "output_type": "stream",
          "text": [
            "[6.28318531]\n"
          ],
          "name": "stdout"
        },
        {
          "output_type": "display_data",
          "data": {
            "image/png": "[encoded data removed]",
            "text/plain": [
              "<Figure size 432x288 with 1 Axes>"
            ]
          },
          "metadata": {
            "tags": [],
            "needs_background": "light"
          }
        }
      ]
    },
    {
      "cell_type": "markdown",
      "metadata": {
        "id": "ClI2ECSxxdNA",
        "colab_type": "text"
      },
      "source": [
        "## Ponto mínimo de uma função"
      ]
    },
    {
      "cell_type": "code",
      "metadata": {
        "id": "ppPAzQuxd1aj",
        "colab_type": "code",
        "outputId": "27b24e61-58f6-4b82-9b36-4522bfcedd55",
        "colab": {
          "base_uri": "https://localhost:8080/",
          "height": 350
        }
      },
      "source": [
        "# Mais simples\n",
        "import numpy as np\n",
        "import matplotlib.pyplot as plt\n",
        "from scipy.optimize import minimize_scalar\n",
        "\n",
        "def f(x):\n",
        "  return (x + 3)**2 - 5\n",
        "\n",
        "x = np.linspace(-20,20, 100)\n",
        "\n",
        "sol = minimize_scalar(f)\n",
        "print(sol)\n",
        "\n",
        "plt.plot(x, f(x))\n",
        "plt.plot(sol.x, f(sol.x), 'ro')\n",
        "plt.show()\n"
      ],
      "execution_count": 0,
      "outputs": [
        {
          "output_type": "stream",
          "text": [
            "     fun: -5.0\n",
            "    nfev: 10\n",
            "     nit: 4\n",
            " success: True\n",
            "       x: -3.0\n"
          ],
          "name": "stdout"
        },
        {
          "output_type": "display_data",
          "data": {
            "image/png": "[encoded data removed]",
            "text/plain": [
              "<Figure size 432x288 with 1 Axes>"
            ]
          },
          "metadata": {
            "tags": [],
            "needs_background": "light"
          }
        }
      ]
    },
    {
      "cell_type": "code",
      "metadata": {
        "id": "-D3-VSG1hObP",
        "colab_type": "code",
        "outputId": "c48b4436-e6ac-460d-e1d2-0b8c98c317bd",
        "colab": {
          "base_uri": "https://localhost:8080/",
          "height": 371
        }
      },
      "source": [
        "# Com ponto inicial fornecido\n",
        "import numpy as np\n",
        "import matplotlib.pyplot as plt\n",
        "from scipy import optimize\n",
        "\n",
        "def f(x):\n",
        "    return (x + 5)**2 + 10*np.sin(x)\n",
        "\n",
        "x = np.linspace(-15, 5, 100)\n",
        "plt.plot(x, f(x))\n",
        "\n",
        "# sol = optimize.minimize_scalar(f)\n",
        "# x_min = sol.x\n",
        "\n",
        "sol = optimize.fmin_bfgs(f, -5.1)\n",
        "x_min = sol\n",
        "print(sol)\n",
        "\n",
        "plt.plot(x_min, f(x_min), 'ro')\n",
        "plt.ylim([-5, 50])\n",
        "plt.show()"
      ],
      "execution_count": 0,
      "outputs": [
        {
          "output_type": "stream",
          "text": [
            "Optimization terminated successfully.\n",
            "         Current function value: -3.234941\n",
            "         Iterations: 4\n",
            "         Function evaluations: 27\n",
            "         Gradient evaluations: 9\n",
            "[-7.36197543]\n"
          ],
          "name": "stdout"
        },
        {
          "output_type": "display_data",
          "data": {
            "image/png": "[encoded data removed]",
            "text/plain": [
              "<Figure size 432x288 with 1 Axes>"
            ]
          },
          "metadata": {
            "tags": [],
            "needs_background": "light"
          }
        }
      ]
    },
    {
      "cell_type": "code",
      "metadata": {
        "id": "poxbAC92mQCp",
        "colab_type": "code",
        "outputId": "1557990a-d6b7-4223-fdf3-4471d70acded",
        "colab": {
          "base_uri": "https://localhost:8080/",
          "height": 286
        }
      },
      "source": [
        "# Algoritmo de força bruta, mais custoso, porém garante encontrar o mínimo global\n",
        "import numpy as np\n",
        "import matplotlib.pyplot as plt\n",
        "from scipy import optimize\n",
        "\n",
        "def f(x):\n",
        "    return (x + 5)**2 + 10*np.sin(x)\n",
        "\n",
        "x = np.linspace(-15, 5, 100)\n",
        "plt.plot(x, f(x))\n",
        "\n",
        "grid = (-10, 10, 0.1)\n",
        "x_min = optimize.brute(f, (grid,))\n",
        "\n",
        "print(x_min)\n",
        "\n",
        "plt.plot(x_min, f(x_min), 'ro')\n",
        "plt.ylim([-5, 50])\n",
        "plt.show()"
      ],
      "execution_count": 0,
      "outputs": [
        {
          "output_type": "stream",
          "text": [
            "[-7.36197021]\n"
          ],
          "name": "stdout"
        },
        {
          "output_type": "display_data",
          "data": {
            "image/png": "[encoded data removed]",
            "text/plain": [
              "<Figure size 432x288 with 1 Axes>"
            ]
          },
          "metadata": {
            "tags": [],
            "needs_background": "light"
          }
        }
      ]
    },
    {
      "cell_type": "markdown",
      "metadata": {
        "id": "TphYBqcixiiH",
        "colab_type": "text"
      },
      "source": [
        "## Regressão (Ajuste de curvas)"
      ]
    },
    {
      "cell_type": "code",
      "metadata": {
        "id": "0p6WY9xTPFfd",
        "colab_type": "code",
        "outputId": "2970fc12-7397-433f-ac1f-a5250680937f",
        "colab": {
          "base_uri": "https://localhost:8080/",
          "height": 298
        }
      },
      "source": [
        "from scipy import optimize as opt\n",
        "import matplotlib.pyplot as plt\n",
        "import numpy as np\n",
        "\n",
        "def f(x,a, b):\n",
        "  return a*x + b\n",
        "\n",
        "x_data = np.arange(-5, 5, 1)\n",
        "y_data = f(x_data, 2, 5)\n",
        "\n",
        "noise = np.random.randn(len(y_data))\n",
        "y_data = y_data + noise\n",
        "plt.plot(x_data, y_data, 'bo')\n",
        "plt.title('Reta')\n",
        "\n",
        "params, params_cov = opt.curve_fit(f, x_data, y_data)\n",
        "print(params)\n",
        "# curva mais proxima\n",
        "a = params[0]\n",
        "b = params[1]\n",
        "y_opt = f(x_data, a, b)\n",
        "plt.plot(x_data, y_opt, 'k-')\n",
        "\n",
        "plt.show()"
      ],
      "execution_count": 0,
      "outputs": [
        {
          "output_type": "stream",
          "text": [
            "[1.96245153 4.54851126]\n"
          ],
          "name": "stdout"
        },
        {
          "output_type": "display_data",
          "data": {
            "image/png": "[encoded data removed]",
            "text/plain": [
              "<Figure size 432x288 with 1 Axes>"
            ]
          },
          "metadata": {
            "tags": [],
            "needs_background": "light"
          }
        }
      ]
    },
    {
      "cell_type": "code",
      "metadata": {
        "id": "_osM-MbssbQo",
        "colab_type": "code",
        "outputId": "7cc25b12-7279-4b96-e8aa-27cf08ad12b4",
        "colab": {
          "base_uri": "https://localhost:8080/",
          "height": 282
        }
      },
      "source": [
        "# Usando mais parametros do curve_fit()\n",
        "from scipy import optimize as opt\n",
        "import matplotlib.pyplot as plt\n",
        "import numpy as np\n",
        "\n",
        "def f(x,a, b, c):\n",
        "  return (x/a)**b + c\n",
        "\n",
        "x_data = np.arange(1, 6, 0.1)\n",
        "y_data = f(x_data, 2.0, 3.0, 4.0)\n",
        "\n",
        "noise = np.random.randn(len(y_data))\n",
        "y_data = y_data + noise\n",
        "\n",
        "plt.plot(x_data, y_data, 'bo')\n",
        " \n",
        "#chute inicial\n",
        "guess = [0.1, -1, 0]\n",
        "lim = ([0.1, -np.inf, 0], [np.inf, 10, np.inf])\n",
        "params, params_cov = opt.curve_fit(f, x_data, y_data, p0 = guess, bounds= lim)\n",
        "print(params)\n",
        "# curva mais proxima\n",
        "a = params[0]\n",
        "b = params[1]\n",
        "c = params[2]\n",
        "\n",
        "y_opt = f(x_data, a, b, c)\n",
        "plt.plot(x_data, y_opt, 'k-')\n",
        "plt.show()"
      ],
      "execution_count": 0,
      "outputs": [
        {
          "output_type": "stream",
          "text": [
            "[1.95728252 2.89926547 4.06028109]\n"
          ],
          "name": "stdout"
        },
        {
          "output_type": "display_data",
          "data": {
            "image/png": "[encoded data removed]",
            "text/plain": [
              "<Figure size 432x288 with 1 Axes>"
            ]
          },
          "metadata": {
            "tags": [],
            "needs_background": "light"
          }
        }
      ]
    },
    {
      "cell_type": "markdown",
      "metadata": {
        "id": "Lmj7ppOfxtBT",
        "colab_type": "text"
      },
      "source": [
        "# Visão geral sobre Manipulação de dados com o módulo Pandas e visualização dos dados"
      ]
    },
    {
      "cell_type": "markdown",
      "metadata": {
        "id": "PSUY96aaHM9w",
        "colab_type": "text"
      },
      "source": [
        "[Getting Started Pandas](https://pandas.pydata.org/docs/getting_started/index.html#getting-started)"
      ]
    },
    {
      "cell_type": "markdown",
      "metadata": {
        "id": "s5O700sSH52K",
        "colab_type": "text"
      },
      "source": [
        "![](https://pandas.pydata.org/docs/_images/01_table_dataframe1.svg)"
      ]
    },
    {
      "cell_type": "markdown",
      "metadata": {
        "id": "2EqgQ7rcLwZC",
        "colab_type": "text"
      },
      "source": [
        "Obs.: A estrutura que armazena os dados em forma de tabela é chamada de Data Frame no pandas, e cada coluna é uma serie."
      ]
    },
    {
      "cell_type": "code",
      "metadata": {
        "id": "rU6umH1pvbr6",
        "colab_type": "code",
        "outputId": "e8fccd08-a74f-402c-f79c-e2ddd9074b54",
        "colab": {
          "base_uri": "https://localhost:8080/",
          "height": 255
        }
      },
      "source": [
        "# Criando um conjunto de dados e armazenando num dicionário\n",
        "import numpy as np\n",
        "\n",
        "nomes = []\n",
        "for i in range(10):\n",
        "  nomes.append('Fulano_' + str(i))\n",
        "\n",
        "idades   = np.random.randint(low = 10, high = 80, size = 10)\n",
        "salarios = np.random.uniform(size=10)*10000.0 + 1000.0\n",
        "\n",
        "tabela = {'Nome': nomes, 'Idade': idades, 'Salario':salarios}\n",
        "\n",
        "tabela"
      ],
      "execution_count": 0,
      "outputs": [
        {
          "output_type": "execute_result",
          "data": {
            "text/plain": [
              "{'Idade': array([65, 44, 32, 27, 26, 54, 15, 12, 31, 21]),\n",
              " 'Nome': ['Fulano_0',\n",
              "  'Fulano_1',\n",
              "  'Fulano_2',\n",
              "  'Fulano_3',\n",
              "  'Fulano_4',\n",
              "  'Fulano_5',\n",
              "  'Fulano_6',\n",
              "  'Fulano_7',\n",
              "  'Fulano_8',\n",
              "  'Fulano_9'],\n",
              " 'Salario': array([ 7220.38994426, 10954.40560101,  9534.71995237,  4013.39225338,\n",
              "         9347.19984116,  4945.26685412,  6538.41035657,  6569.24069768,\n",
              "         3939.59411014,  5699.65715503])}"
            ]
          },
          "metadata": {
            "tags": []
          },
          "execution_count": 150
        }
      ]
    },
    {
      "cell_type": "code",
      "metadata": {
        "id": "e_Am_GWFLPVW",
        "colab_type": "code",
        "colab": {}
      },
      "source": [
        "# Criando um DataFrame a partir do dicionário\n",
        "import pandas as pd\n",
        "\n",
        "df = pd.DataFrame(tabela)\n",
        "df"
      ],
      "execution_count": 0,
      "outputs": []
    },
    {
      "cell_type": "code",
      "metadata": {
        "id": "LLcrSer8MSOs",
        "colab_type": "code",
        "outputId": "bda133a1-759e-4ebd-b799-d2160287d064",
        "colab": {
          "base_uri": "https://localhost:8080/",
          "height": 204
        }
      },
      "source": [
        "# mostra apenas algumas linhas iniciais (útil para grande quantidade de dados)\n",
        "df.head()"
      ],
      "execution_count": 0,
      "outputs": [
        {
          "output_type": "execute_result",
          "data": {
            "text/html": [
              "<div>\n",
              "<style scoped>\n",
              "    .dataframe tbody tr th:only-of-type {\n",
              "        vertical-align: middle;\n",
              "    }\n",
              "\n",
              "    .dataframe tbody tr th {\n",
              "        vertical-align: top;\n",
              "    }\n",
              "\n",
              "    .dataframe thead th {\n",
              "        text-align: right;\n",
              "    }\n",
              "</style>\n",
              "<table border=\"1\" class=\"dataframe\">\n",
              "  <thead>\n",
              "    <tr style=\"text-align: right;\">\n",
              "      <th></th>\n",
              "      <th>Nome</th>\n",
              "      <th>Idade</th>\n",
              "      <th>Salario</th>\n",
              "    </tr>\n",
              "  </thead>\n",
              "  <tbody>\n",
              "    <tr>\n",
              "      <th>0</th>\n",
              "      <td>Fulano_0</td>\n",
              "      <td>65</td>\n",
              "      <td>7220.389944</td>\n",
              "    </tr>\n",
              "    <tr>\n",
              "      <th>1</th>\n",
              "      <td>Fulano_1</td>\n",
              "      <td>44</td>\n",
              "      <td>10954.405601</td>\n",
              "    </tr>\n",
              "    <tr>\n",
              "      <th>2</th>\n",
              "      <td>Fulano_2</td>\n",
              "      <td>32</td>\n",
              "      <td>9534.719952</td>\n",
              "    </tr>\n",
              "    <tr>\n",
              "      <th>3</th>\n",
              "      <td>Fulano_3</td>\n",
              "      <td>27</td>\n",
              "      <td>4013.392253</td>\n",
              "    </tr>\n",
              "    <tr>\n",
              "      <th>4</th>\n",
              "      <td>Fulano_4</td>\n",
              "      <td>26</td>\n",
              "      <td>9347.199841</td>\n",
              "    </tr>\n",
              "  </tbody>\n",
              "</table>\n",
              "</div>"
            ],
            "text/plain": [
              "       Nome  Idade       Salario\n",
              "0  Fulano_0     65   7220.389944\n",
              "1  Fulano_1     44  10954.405601\n",
              "2  Fulano_2     32   9534.719952\n",
              "3  Fulano_3     27   4013.392253\n",
              "4  Fulano_4     26   9347.199841"
            ]
          },
          "metadata": {
            "tags": []
          },
          "execution_count": 152
        }
      ]
    },
    {
      "cell_type": "code",
      "metadata": {
        "id": "Qd_lUvd7Mbsu",
        "colab_type": "code",
        "outputId": "4312d026-5321-44ca-a032-01d6f240c621",
        "colab": {
          "base_uri": "https://localhost:8080/",
          "height": 297
        }
      },
      "source": [
        "df.describe()"
      ],
      "execution_count": 0,
      "outputs": [
        {
          "output_type": "execute_result",
          "data": {
            "text/html": [
              "<div>\n",
              "<style scoped>\n",
              "    .dataframe tbody tr th:only-of-type {\n",
              "        vertical-align: middle;\n",
              "    }\n",
              "\n",
              "    .dataframe tbody tr th {\n",
              "        vertical-align: top;\n",
              "    }\n",
              "\n",
              "    .dataframe thead th {\n",
              "        text-align: right;\n",
              "    }\n",
              "</style>\n",
              "<table border=\"1\" class=\"dataframe\">\n",
              "  <thead>\n",
              "    <tr style=\"text-align: right;\">\n",
              "      <th></th>\n",
              "      <th>Idade</th>\n",
              "      <th>Salario</th>\n",
              "    </tr>\n",
              "  </thead>\n",
              "  <tbody>\n",
              "    <tr>\n",
              "      <th>count</th>\n",
              "      <td>10.000000</td>\n",
              "      <td>10.000000</td>\n",
              "    </tr>\n",
              "    <tr>\n",
              "      <th>mean</th>\n",
              "      <td>32.700000</td>\n",
              "      <td>6876.227677</td>\n",
              "    </tr>\n",
              "    <tr>\n",
              "      <th>std</th>\n",
              "      <td>16.944681</td>\n",
              "      <td>2405.184222</td>\n",
              "    </tr>\n",
              "    <tr>\n",
              "      <th>min</th>\n",
              "      <td>12.000000</td>\n",
              "      <td>3939.594110</td>\n",
              "    </tr>\n",
              "    <tr>\n",
              "      <th>25%</th>\n",
              "      <td>22.250000</td>\n",
              "      <td>5133.864429</td>\n",
              "    </tr>\n",
              "    <tr>\n",
              "      <th>50%</th>\n",
              "      <td>29.000000</td>\n",
              "      <td>6553.825527</td>\n",
              "    </tr>\n",
              "    <tr>\n",
              "      <th>75%</th>\n",
              "      <td>41.000000</td>\n",
              "      <td>8815.497367</td>\n",
              "    </tr>\n",
              "    <tr>\n",
              "      <th>max</th>\n",
              "      <td>65.000000</td>\n",
              "      <td>10954.405601</td>\n",
              "    </tr>\n",
              "  </tbody>\n",
              "</table>\n",
              "</div>"
            ],
            "text/plain": [
              "           Idade       Salario\n",
              "count  10.000000     10.000000\n",
              "mean   32.700000   6876.227677\n",
              "std    16.944681   2405.184222\n",
              "min    12.000000   3939.594110\n",
              "25%    22.250000   5133.864429\n",
              "50%    29.000000   6553.825527\n",
              "75%    41.000000   8815.497367\n",
              "max    65.000000  10954.405601"
            ]
          },
          "metadata": {
            "tags": []
          },
          "execution_count": 153
        }
      ]
    },
    {
      "cell_type": "code",
      "metadata": {
        "id": "41cpAKNEMz2f",
        "colab_type": "code",
        "outputId": "247e4902-a7e7-4bdb-eb5b-ba654e7b7dc1",
        "colab": {
          "base_uri": "https://localhost:8080/",
          "height": 170
        }
      },
      "source": [
        "df['Idade'].describe()"
      ],
      "execution_count": 0,
      "outputs": [
        {
          "output_type": "execute_result",
          "data": {
            "text/plain": [
              "count    10.000000\n",
              "mean     32.700000\n",
              "std      16.944681\n",
              "min      12.000000\n",
              "25%      22.250000\n",
              "50%      29.000000\n",
              "75%      41.000000\n",
              "max      65.000000\n",
              "Name: Idade, dtype: float64"
            ]
          },
          "metadata": {
            "tags": []
          },
          "execution_count": 154
        }
      ]
    },
    {
      "cell_type": "code",
      "metadata": {
        "id": "3PIFJpE7Lnht",
        "colab_type": "code",
        "outputId": "5c3b3bce-5093-4566-84c4-5cf385f5350c",
        "colab": {
          "base_uri": "https://localhost:8080/",
          "height": 51
        }
      },
      "source": [
        "# Algumas funções do DataFrame\n",
        "print(df['Idade'].max())\n",
        "print(df['Salario'].mean())"
      ],
      "execution_count": 0,
      "outputs": [
        {
          "output_type": "stream",
          "text": [
            "65\n",
            "6876.227676571056\n"
          ],
          "name": "stdout"
        }
      ]
    },
    {
      "cell_type": "markdown",
      "metadata": {
        "id": "NFjOS1CWM8jE",
        "colab_type": "text"
      },
      "source": [
        "Alguns formatos suportados:\n",
        "\n",
        "![](https://pandas.pydata.org/docs/_images/02_io_readwrite.svg)"
      ]
    },
    {
      "cell_type": "code",
      "metadata": {
        "id": "z7HEUsccNHxh",
        "colab_type": "code",
        "colab": {}
      },
      "source": [
        "# Salvando nosso df em um arquivo CSV\n",
        "df.to_csv('testePandas.csv')"
      ],
      "execution_count": 0,
      "outputs": []
    },
    {
      "cell_type": "code",
      "metadata": {
        "id": "V6uKAapINmD8",
        "colab_type": "code",
        "outputId": "8f9e53a2-704c-4466-a2cf-77acbde4562f",
        "colab": {
          "base_uri": "https://localhost:8080/",
          "height": 359
        }
      },
      "source": [
        "# Adicionando nova coluna\n",
        "df['Anos de Estudo'] = df['Salario']/df['Salario'].max() * 10\n",
        "df"
      ],
      "execution_count": 0,
      "outputs": [
        {
          "output_type": "execute_result",
          "data": {
            "text/html": [
              "<div>\n",
              "<style scoped>\n",
              "    .dataframe tbody tr th:only-of-type {\n",
              "        vertical-align: middle;\n",
              "    }\n",
              "\n",
              "    .dataframe tbody tr th {\n",
              "        vertical-align: top;\n",
              "    }\n",
              "\n",
              "    .dataframe thead th {\n",
              "        text-align: right;\n",
              "    }\n",
              "</style>\n",
              "<table border=\"1\" class=\"dataframe\">\n",
              "  <thead>\n",
              "    <tr style=\"text-align: right;\">\n",
              "      <th></th>\n",
              "      <th>Nome</th>\n",
              "      <th>Idade</th>\n",
              "      <th>Salario</th>\n",
              "      <th>Anos de Estudo</th>\n",
              "    </tr>\n",
              "  </thead>\n",
              "  <tbody>\n",
              "    <tr>\n",
              "      <th>0</th>\n",
              "      <td>Fulano_0</td>\n",
              "      <td>65</td>\n",
              "      <td>7220.389944</td>\n",
              "      <td>6.591311</td>\n",
              "    </tr>\n",
              "    <tr>\n",
              "      <th>1</th>\n",
              "      <td>Fulano_1</td>\n",
              "      <td>44</td>\n",
              "      <td>10954.405601</td>\n",
              "      <td>10.000000</td>\n",
              "    </tr>\n",
              "    <tr>\n",
              "      <th>2</th>\n",
              "      <td>Fulano_2</td>\n",
              "      <td>32</td>\n",
              "      <td>9534.719952</td>\n",
              "      <td>8.704005</td>\n",
              "    </tr>\n",
              "    <tr>\n",
              "      <th>3</th>\n",
              "      <td>Fulano_3</td>\n",
              "      <td>27</td>\n",
              "      <td>4013.392253</td>\n",
              "      <td>3.663724</td>\n",
              "    </tr>\n",
              "    <tr>\n",
              "      <th>4</th>\n",
              "      <td>Fulano_4</td>\n",
              "      <td>26</td>\n",
              "      <td>9347.199841</td>\n",
              "      <td>8.532822</td>\n",
              "    </tr>\n",
              "    <tr>\n",
              "      <th>5</th>\n",
              "      <td>Fulano_5</td>\n",
              "      <td>54</td>\n",
              "      <td>4945.266854</td>\n",
              "      <td>4.514409</td>\n",
              "    </tr>\n",
              "    <tr>\n",
              "      <th>6</th>\n",
              "      <td>Fulano_6</td>\n",
              "      <td>15</td>\n",
              "      <td>6538.410357</td>\n",
              "      <td>5.968750</td>\n",
              "    </tr>\n",
              "    <tr>\n",
              "      <th>7</th>\n",
              "      <td>Fulano_7</td>\n",
              "      <td>12</td>\n",
              "      <td>6569.240698</td>\n",
              "      <td>5.996894</td>\n",
              "    </tr>\n",
              "    <tr>\n",
              "      <th>8</th>\n",
              "      <td>Fulano_8</td>\n",
              "      <td>31</td>\n",
              "      <td>3939.594110</td>\n",
              "      <td>3.596356</td>\n",
              "    </tr>\n",
              "    <tr>\n",
              "      <th>9</th>\n",
              "      <td>Fulano_9</td>\n",
              "      <td>21</td>\n",
              "      <td>5699.657155</td>\n",
              "      <td>5.203073</td>\n",
              "    </tr>\n",
              "  </tbody>\n",
              "</table>\n",
              "</div>"
            ],
            "text/plain": [
              "       Nome  Idade       Salario  Anos de Estudo\n",
              "0  Fulano_0     65   7220.389944        6.591311\n",
              "1  Fulano_1     44  10954.405601       10.000000\n",
              "2  Fulano_2     32   9534.719952        8.704005\n",
              "3  Fulano_3     27   4013.392253        3.663724\n",
              "4  Fulano_4     26   9347.199841        8.532822\n",
              "5  Fulano_5     54   4945.266854        4.514409\n",
              "6  Fulano_6     15   6538.410357        5.968750\n",
              "7  Fulano_7     12   6569.240698        5.996894\n",
              "8  Fulano_8     31   3939.594110        3.596356\n",
              "9  Fulano_9     21   5699.657155        5.203073"
            ]
          },
          "metadata": {
            "tags": []
          },
          "execution_count": 163
        }
      ]
    },
    {
      "cell_type": "code",
      "metadata": {
        "id": "2FR1axGnP2NX",
        "colab_type": "code",
        "outputId": "9f6ad606-265c-4d5f-8d71-1a579946db83",
        "colab": {
          "base_uri": "https://localhost:8080/",
          "height": 359
        }
      },
      "source": [
        "df[ ['Idade', 'Salario'] ]"
      ],
      "execution_count": 0,
      "outputs": [
        {
          "output_type": "execute_result",
          "data": {
            "text/html": [
              "<div>\n",
              "<style scoped>\n",
              "    .dataframe tbody tr th:only-of-type {\n",
              "        vertical-align: middle;\n",
              "    }\n",
              "\n",
              "    .dataframe tbody tr th {\n",
              "        vertical-align: top;\n",
              "    }\n",
              "\n",
              "    .dataframe thead th {\n",
              "        text-align: right;\n",
              "    }\n",
              "</style>\n",
              "<table border=\"1\" class=\"dataframe\">\n",
              "  <thead>\n",
              "    <tr style=\"text-align: right;\">\n",
              "      <th></th>\n",
              "      <th>Idade</th>\n",
              "      <th>Salario</th>\n",
              "    </tr>\n",
              "  </thead>\n",
              "  <tbody>\n",
              "    <tr>\n",
              "      <th>0</th>\n",
              "      <td>65</td>\n",
              "      <td>7220.389944</td>\n",
              "    </tr>\n",
              "    <tr>\n",
              "      <th>1</th>\n",
              "      <td>44</td>\n",
              "      <td>10954.405601</td>\n",
              "    </tr>\n",
              "    <tr>\n",
              "      <th>2</th>\n",
              "      <td>32</td>\n",
              "      <td>9534.719952</td>\n",
              "    </tr>\n",
              "    <tr>\n",
              "      <th>3</th>\n",
              "      <td>27</td>\n",
              "      <td>4013.392253</td>\n",
              "    </tr>\n",
              "    <tr>\n",
              "      <th>4</th>\n",
              "      <td>26</td>\n",
              "      <td>9347.199841</td>\n",
              "    </tr>\n",
              "    <tr>\n",
              "      <th>5</th>\n",
              "      <td>54</td>\n",
              "      <td>4945.266854</td>\n",
              "    </tr>\n",
              "    <tr>\n",
              "      <th>6</th>\n",
              "      <td>15</td>\n",
              "      <td>6538.410357</td>\n",
              "    </tr>\n",
              "    <tr>\n",
              "      <th>7</th>\n",
              "      <td>12</td>\n",
              "      <td>6569.240698</td>\n",
              "    </tr>\n",
              "    <tr>\n",
              "      <th>8</th>\n",
              "      <td>31</td>\n",
              "      <td>3939.594110</td>\n",
              "    </tr>\n",
              "    <tr>\n",
              "      <th>9</th>\n",
              "      <td>21</td>\n",
              "      <td>5699.657155</td>\n",
              "    </tr>\n",
              "  </tbody>\n",
              "</table>\n",
              "</div>"
            ],
            "text/plain": [
              "   Idade       Salario\n",
              "0     65   7220.389944\n",
              "1     44  10954.405601\n",
              "2     32   9534.719952\n",
              "3     27   4013.392253\n",
              "4     26   9347.199841\n",
              "5     54   4945.266854\n",
              "6     15   6538.410357\n",
              "7     12   6569.240698\n",
              "8     31   3939.594110\n",
              "9     21   5699.657155"
            ]
          },
          "metadata": {
            "tags": []
          },
          "execution_count": 164
        }
      ]
    },
    {
      "cell_type": "code",
      "metadata": {
        "id": "76uXB0bBQBH-",
        "colab_type": "code",
        "outputId": "28e0e923-b576-4b18-ec39-f30636be33ae",
        "colab": {
          "base_uri": "https://localhost:8080/",
          "height": 266
        }
      },
      "source": [
        "# Apenas pessoas com mais de 25 anos\n",
        "df[df['Idade'] > 25]"
      ],
      "execution_count": 0,
      "outputs": [
        {
          "output_type": "execute_result",
          "data": {
            "text/html": [
              "<div>\n",
              "<style scoped>\n",
              "    .dataframe tbody tr th:only-of-type {\n",
              "        vertical-align: middle;\n",
              "    }\n",
              "\n",
              "    .dataframe tbody tr th {\n",
              "        vertical-align: top;\n",
              "    }\n",
              "\n",
              "    .dataframe thead th {\n",
              "        text-align: right;\n",
              "    }\n",
              "</style>\n",
              "<table border=\"1\" class=\"dataframe\">\n",
              "  <thead>\n",
              "    <tr style=\"text-align: right;\">\n",
              "      <th></th>\n",
              "      <th>Nome</th>\n",
              "      <th>Idade</th>\n",
              "      <th>Salario</th>\n",
              "      <th>Anos de Estudo</th>\n",
              "    </tr>\n",
              "  </thead>\n",
              "  <tbody>\n",
              "    <tr>\n",
              "      <th>0</th>\n",
              "      <td>Fulano_0</td>\n",
              "      <td>65</td>\n",
              "      <td>7220.389944</td>\n",
              "      <td>6.591311</td>\n",
              "    </tr>\n",
              "    <tr>\n",
              "      <th>1</th>\n",
              "      <td>Fulano_1</td>\n",
              "      <td>44</td>\n",
              "      <td>10954.405601</td>\n",
              "      <td>10.000000</td>\n",
              "    </tr>\n",
              "    <tr>\n",
              "      <th>2</th>\n",
              "      <td>Fulano_2</td>\n",
              "      <td>32</td>\n",
              "      <td>9534.719952</td>\n",
              "      <td>8.704005</td>\n",
              "    </tr>\n",
              "    <tr>\n",
              "      <th>3</th>\n",
              "      <td>Fulano_3</td>\n",
              "      <td>27</td>\n",
              "      <td>4013.392253</td>\n",
              "      <td>3.663724</td>\n",
              "    </tr>\n",
              "    <tr>\n",
              "      <th>4</th>\n",
              "      <td>Fulano_4</td>\n",
              "      <td>26</td>\n",
              "      <td>9347.199841</td>\n",
              "      <td>8.532822</td>\n",
              "    </tr>\n",
              "    <tr>\n",
              "      <th>5</th>\n",
              "      <td>Fulano_5</td>\n",
              "      <td>54</td>\n",
              "      <td>4945.266854</td>\n",
              "      <td>4.514409</td>\n",
              "    </tr>\n",
              "    <tr>\n",
              "      <th>8</th>\n",
              "      <td>Fulano_8</td>\n",
              "      <td>31</td>\n",
              "      <td>3939.594110</td>\n",
              "      <td>3.596356</td>\n",
              "    </tr>\n",
              "  </tbody>\n",
              "</table>\n",
              "</div>"
            ],
            "text/plain": [
              "       Nome  Idade       Salario  Anos de Estudo\n",
              "0  Fulano_0     65   7220.389944        6.591311\n",
              "1  Fulano_1     44  10954.405601       10.000000\n",
              "2  Fulano_2     32   9534.719952        8.704005\n",
              "3  Fulano_3     27   4013.392253        3.663724\n",
              "4  Fulano_4     26   9347.199841        8.532822\n",
              "5  Fulano_5     54   4945.266854        4.514409\n",
              "8  Fulano_8     31   3939.594110        3.596356"
            ]
          },
          "metadata": {
            "tags": []
          },
          "execution_count": 165
        }
      ]
    },
    {
      "cell_type": "code",
      "metadata": {
        "id": "fyv0Ai47RW90",
        "colab_type": "code",
        "outputId": "9a261b9f-a8ac-4649-ff0b-baed3e147efe",
        "colab": {
          "base_uri": "https://localhost:8080/",
          "height": 204
        }
      },
      "source": [
        "# Selecionar uma coluna especifica\n",
        "df[(df['Idade'] > 20) & (df['Idade'] < 40)]['Nome']"
      ],
      "execution_count": 0,
      "outputs": [
        {
          "output_type": "execute_result",
          "data": {
            "text/html": [
              "<div>\n",
              "<style scoped>\n",
              "    .dataframe tbody tr th:only-of-type {\n",
              "        vertical-align: middle;\n",
              "    }\n",
              "\n",
              "    .dataframe tbody tr th {\n",
              "        vertical-align: top;\n",
              "    }\n",
              "\n",
              "    .dataframe thead th {\n",
              "        text-align: right;\n",
              "    }\n",
              "</style>\n",
              "<table border=\"1\" class=\"dataframe\">\n",
              "  <thead>\n",
              "    <tr style=\"text-align: right;\">\n",
              "      <th></th>\n",
              "      <th>Nome</th>\n",
              "      <th>Idade</th>\n",
              "      <th>Salario</th>\n",
              "      <th>Anos de Estudo</th>\n",
              "    </tr>\n",
              "  </thead>\n",
              "  <tbody>\n",
              "    <tr>\n",
              "      <th>2</th>\n",
              "      <td>Fulano_2</td>\n",
              "      <td>32</td>\n",
              "      <td>9534.719952</td>\n",
              "      <td>8.704005</td>\n",
              "    </tr>\n",
              "    <tr>\n",
              "      <th>3</th>\n",
              "      <td>Fulano_3</td>\n",
              "      <td>27</td>\n",
              "      <td>4013.392253</td>\n",
              "      <td>3.663724</td>\n",
              "    </tr>\n",
              "    <tr>\n",
              "      <th>4</th>\n",
              "      <td>Fulano_4</td>\n",
              "      <td>26</td>\n",
              "      <td>9347.199841</td>\n",
              "      <td>8.532822</td>\n",
              "    </tr>\n",
              "    <tr>\n",
              "      <th>8</th>\n",
              "      <td>Fulano_8</td>\n",
              "      <td>31</td>\n",
              "      <td>3939.594110</td>\n",
              "      <td>3.596356</td>\n",
              "    </tr>\n",
              "    <tr>\n",
              "      <th>9</th>\n",
              "      <td>Fulano_9</td>\n",
              "      <td>21</td>\n",
              "      <td>5699.657155</td>\n",
              "      <td>5.203073</td>\n",
              "    </tr>\n",
              "  </tbody>\n",
              "</table>\n",
              "</div>"
            ],
            "text/plain": [
              "       Nome  Idade      Salario  Anos de Estudo\n",
              "2  Fulano_2     32  9534.719952        8.704005\n",
              "3  Fulano_3     27  4013.392253        3.663724\n",
              "4  Fulano_4     26  9347.199841        8.532822\n",
              "8  Fulano_8     31  3939.594110        3.596356\n",
              "9  Fulano_9     21  5699.657155        5.203073"
            ]
          },
          "metadata": {
            "tags": []
          },
          "execution_count": 167
        }
      ]
    },
    {
      "cell_type": "code",
      "metadata": {
        "id": "nEOSDV7ASWwi",
        "colab_type": "code",
        "outputId": "26ba3acb-59f5-4556-c616-f2bcfa711b8e",
        "colab": {
          "base_uri": "https://localhost:8080/",
          "height": 119
        }
      },
      "source": [
        "# Ou usando a função loc\n",
        "df.loc[(df['Idade'] > 20) & (df['Idade'] < 40)  , 'Nome']"
      ],
      "execution_count": 0,
      "outputs": [
        {
          "output_type": "execute_result",
          "data": {
            "text/plain": [
              "2    Fulano_2\n",
              "3    Fulano_3\n",
              "4    Fulano_4\n",
              "8    Fulano_8\n",
              "9    Fulano_9\n",
              "Name: Nome, dtype: object"
            ]
          },
          "metadata": {
            "tags": []
          },
          "execution_count": 168
        }
      ]
    },
    {
      "cell_type": "code",
      "metadata": {
        "id": "ilWCzuXcSiBQ",
        "colab_type": "code",
        "outputId": "31ad483e-da83-4db4-e76c-a22836c036a5",
        "colab": {
          "base_uri": "https://localhost:8080/",
          "height": 111
        }
      },
      "source": [
        "# Selecionando região do dataframe pelos indices\n",
        "# [linha, coluna]\n",
        "# [inicio : fim,  inicio : fim  ]\n",
        "# obs.: fim não incluso\n",
        "# exemplo pega as linhas de 0 até 2 e todas as colunas (:)\n",
        "df.iloc[1:3 , :]"
      ],
      "execution_count": 0,
      "outputs": [
        {
          "output_type": "execute_result",
          "data": {
            "text/html": [
              "<div>\n",
              "<style scoped>\n",
              "    .dataframe tbody tr th:only-of-type {\n",
              "        vertical-align: middle;\n",
              "    }\n",
              "\n",
              "    .dataframe tbody tr th {\n",
              "        vertical-align: top;\n",
              "    }\n",
              "\n",
              "    .dataframe thead th {\n",
              "        text-align: right;\n",
              "    }\n",
              "</style>\n",
              "<table border=\"1\" class=\"dataframe\">\n",
              "  <thead>\n",
              "    <tr style=\"text-align: right;\">\n",
              "      <th></th>\n",
              "      <th>Nome</th>\n",
              "      <th>Idade</th>\n",
              "      <th>Salario</th>\n",
              "      <th>Anos de Estudo</th>\n",
              "    </tr>\n",
              "  </thead>\n",
              "  <tbody>\n",
              "    <tr>\n",
              "      <th>1</th>\n",
              "      <td>Fulano_1</td>\n",
              "      <td>44</td>\n",
              "      <td>10954.405601</td>\n",
              "      <td>10.000000</td>\n",
              "    </tr>\n",
              "    <tr>\n",
              "      <th>2</th>\n",
              "      <td>Fulano_2</td>\n",
              "      <td>32</td>\n",
              "      <td>9534.719952</td>\n",
              "      <td>8.704005</td>\n",
              "    </tr>\n",
              "  </tbody>\n",
              "</table>\n",
              "</div>"
            ],
            "text/plain": [
              "       Nome  Idade       Salario  Anos de Estudo\n",
              "1  Fulano_1     44  10954.405601       10.000000\n",
              "2  Fulano_2     32   9534.719952        8.704005"
            ]
          },
          "metadata": {
            "tags": []
          },
          "execution_count": 169
        }
      ]
    },
    {
      "cell_type": "code",
      "metadata": {
        "id": "to5_bz7oTVC6",
        "colab_type": "code",
        "outputId": "0716996b-077c-4bae-e55e-ff843c218f43",
        "colab": {
          "base_uri": "https://localhost:8080/",
          "height": 296
        }
      },
      "source": [
        "df.plot.scatter(x = 'Idade', y = 'Salario')"
      ],
      "execution_count": 0,
      "outputs": [
        {
          "output_type": "execute_result",
          "data": {
            "text/plain": [
              "<matplotlib.axes._subplots.AxesSubplot at 0x7fa472265a20>"
            ]
          },
          "metadata": {
            "tags": []
          },
          "execution_count": 170
        },
        {
          "output_type": "display_data",
          "data": {
            "image/png": "[encoded data removed]",
            "text/plain": [
              "<Figure size 432x288 with 1 Axes>"
            ]
          },
          "metadata": {
            "tags": [],
            "needs_background": "light"
          }
        }
      ]
    },
    {
      "cell_type": "code",
      "metadata": {
        "id": "WSZiZiCsTp8r",
        "colab_type": "code",
        "outputId": "df9deb4a-965d-4dea-b041-7446845262b2",
        "colab": {
          "base_uri": "https://localhost:8080/",
          "height": 281
        }
      },
      "source": [
        "fig , axes = df.hist()"
      ],
      "execution_count": 0,
      "outputs": [
        {
          "output_type": "display_data",
          "data": {
            "image/png": "[encoded data removed]",
            "text/plain": [
              "<Figure size 432x288 with 4 Axes>"
            ]
          },
          "metadata": {
            "tags": [],
            "needs_background": "light"
          }
        }
      ]
    },
    {
      "cell_type": "code",
      "metadata": {
        "id": "xtmfQk-AUY_c",
        "colab_type": "code",
        "outputId": "d3d37374-37f4-4630-d8b9-8e77f10f1c1b",
        "colab": {
          "base_uri": "https://localhost:8080/",
          "height": 279
        }
      },
      "source": [
        "import matplotlib.pyplot as plt\n",
        "\n",
        "plt.scatter(x = df['Anos de Estudo'], y = df['Salario'])\n",
        "plt.xlabel('Anos de estudo')\n",
        "plt.ylabel('Salário')\n",
        "plt.show()"
      ],
      "execution_count": 0,
      "outputs": [
        {
          "output_type": "display_data",
          "data": {
            "image/png": "[encoded data removed]",
            "text/plain": [
              "<Figure size 432x288 with 1 Axes>"
            ]
          },
          "metadata": {
            "tags": [],
            "needs_background": "light"
          }
        }
      ]
    },
    {
      "cell_type": "markdown",
      "metadata": {
        "id": "4zRQPmTQX_Gq",
        "colab_type": "text"
      },
      "source": [
        "# [Exemplo: Lançamento de um foguete](https://colab.research.google.com/drive/1g8MGGWT2ykicfyWxxI-ncZAD7RTwyYRj?usp=sharing)"
      ]
    },
    {
      "cell_type": "markdown",
      "metadata": {
        "id": "LfMO_X3yxEWt",
        "colab_type": "text"
      },
      "source": [
        "# Referências\n",
        "\n",
        "*  [Tutorial de python](https://docs.python.org/pt-br/3/tutorial/index.html) \n",
        "\n",
        "*  [documentação Python 3.8.3(pt-br)](https://docs.python.org/pt-br/3/)\n",
        "\n",
        "* [Tutorial for Python](https://en.wikibooks.org/wiki/Non-Programmer%27s_Tutorial_for_Python_3)\n",
        "\n",
        "* [Numpy](https://numpy.org/doc/)\n",
        "\n",
        "* [Cheat Sheet Numpy](https://s3.amazonaws.com/assets.datacamp.com/blog_assets/Numpy_Python_Cheat_Sheet.pdf)\n",
        "\n",
        "*  [Google - Colab](\n",
        "https://colab.research.google.com/notebooks/basic_features_overview.ipynb#scrollTo=Id6tDF1HQSHD)\n",
        "  \n",
        "* [Matrizes no Latex](https://www.math-linux.com/latex-26/faq/latex-faq/article/how-to-write-matrices-in-latex-matrix-pmatrix-bmatrix-vmatrix-vmatrix)\n",
        "\n",
        "* [Lista de Simbolos LaTex](https://oeis.org/wiki/List_of_LaTeX_mathematical_symbols)"
      ]
    }
  ]
}